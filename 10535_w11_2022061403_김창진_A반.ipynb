{
 "cells": [
  {
   "cell_type": "markdown",
   "id": "4c21edf5",
   "metadata": {},
   "source": [
    "# P1. 컴퓨팅 알고리즘 소개\n",
    "### 라면조리법 만들기"
   ]
  },
  {
   "cell_type": "markdown",
   "id": "30b77bbb",
   "metadata": {},
   "source": [
    "1. 봉지라면 1개, 물500ml, 냄비를 준비한다.\n",
    "2. 냄비에 물 500ml를 담는다.\n",
    "3. 강불에서 냄비의 물을 끓인다.\n",
    "4. 5분 뒤 라면스프와 건더기, 면을 모두 넣는다.\n",
    "6. 젓가락으로 면을 풀어주며 3분 더 끓인다."
   ]
  },
  {
   "cell_type": "markdown",
   "id": "db1d17b5",
   "metadata": {},
   "source": [
    "# P2. 실행시간 측정하기\n"
   ]
  },
  {
   "cell_type": "code",
   "execution_count": 2,
   "id": "1d75b8b4",
   "metadata": {
    "scrolled": true
   },
   "outputs": [
    {
     "name": "stdout",
     "output_type": "stream",
     "text": [
      "10 회의 전체 수행시간은 0.006070375442504883 초입니다.\n",
      "10 회의 평균 수행시간은 0.0006070375442504883 초입니다.\n",
      "\n",
      "100 회의 전체 수행시간은 0.09009218215942383 초입니다.\n",
      "100 회의 평균 수행시간은 0.0009009218215942382 초입니다.\n",
      "\n",
      "1000 회의 전체 수행시간은 0.6552088260650635 초입니다.\n",
      "1000 회의 평균 수행시간은 0.0006552088260650635 초입니다.\n",
      "\n",
      "10000 회의 전체 수행시간은 6.294160604476929 초입니다.\n",
      "10000 회의 평균 수행시간은 0.0006294160604476929 초입니다.\n",
      "\n",
      "1000000 회의 전체 수행시간은 689.1222884654999 초입니다.\n",
      "1000000 회의 평균 수행시간은 0.0006891222884654999 초입니다.\n",
      "\n"
     ]
    }
   ],
   "source": [
    "import time, random\n",
    "for loops in [10,100,1000,10000,1000000]:\n",
    "    start = time.time()\n",
    "    for i in range(loops):\n",
    "        numA = random.randint(1000,9999)\n",
    "        numB = random.randint(1000,9999)\n",
    "        result = numA**numB\n",
    "    end=time.time()\n",
    "    \n",
    "    print(loops,'회의 전체 수행시간은',end-start,'초입니다.')\n",
    "    print(loops,'회의 평균 수행시간은',(end-start)/loops,'초입니다.')\n",
    "    print()"
   ]
  },
  {
   "cell_type": "markdown",
   "id": "7453d85d",
   "metadata": {},
   "source": [
    "# P2. 선택,삽입정렬 구현"
   ]
  },
  {
   "cell_type": "code",
   "execution_count": 9,
   "id": "954806f0",
   "metadata": {},
   "outputs": [
    {
     "name": "stdout",
     "output_type": "stream",
     "text": [
      "정렬전:  [4, 7, 3, 6, 5, 2, 1, 8, 9, 0]\n",
      "  1 번째 정렬 후: [0, 7, 3, 6, 5, 2, 1, 8, 9, 4]\n",
      "  2 번째 정렬 후: [0, 1, 3, 6, 5, 2, 7, 8, 9, 4]\n",
      "  3 번째 정렬 후: [0, 1, 2, 6, 5, 3, 7, 8, 9, 4]\n",
      "  4 번째 정렬 후: [0, 1, 2, 3, 5, 6, 7, 8, 9, 4]\n",
      "  5 번째 정렬 후: [0, 1, 2, 3, 4, 6, 7, 8, 9, 5]\n",
      "  6 번째 정렬 후: [0, 1, 2, 3, 4, 5, 7, 8, 9, 6]\n",
      "  7 번째 정렬 후: [0, 1, 2, 3, 4, 5, 6, 8, 9, 7]\n",
      "  8 번째 정렬 후: [0, 1, 2, 3, 4, 5, 6, 7, 9, 8]\n",
      "  9 번째 정렬 후: [0, 1, 2, 3, 4, 5, 6, 7, 8, 9]\n",
      "정렬후: [0, 1, 2, 3, 4, 5, 6, 7, 8, 9]\n",
      "정렬에 걸린 시간(s): 0.0005133152008056641\n"
     ]
    }
   ],
   "source": [
    "#선택정렬\n",
    "import random\n",
    "import time\n",
    "\n",
    "listA = list(range(0,10))\n",
    "random.shuffle(listA)\n",
    "print('정렬전: ',listA)\n",
    "\n",
    "start=time.time()\n",
    "for i in range(len(listA)-1):\n",
    "    min_idx=i\n",
    "    for j in range(i+1,len(listA)):\n",
    "        if listA[min_idx]>listA[j]:\n",
    "            min_idx=j\n",
    "    temp=listA[i]\n",
    "    listA[i] = listA[min_idx]\n",
    "    listA[min_idx] = temp\n",
    "    \n",
    "    print(' ',i+1,'번째 정렬 후:',listA)\n",
    "print('정렬후:',listA)\n",
    "print('정렬에 걸린 시간(s):',time.time()-start)\n"
   ]
  },
  {
   "cell_type": "code",
   "execution_count": 11,
   "id": "d0b4c385",
   "metadata": {},
   "outputs": [
    {
     "name": "stdout",
     "output_type": "stream",
     "text": [
      "정렬전:  [3, 7, 4, 6, 2, 5, 9, 0, 8, 1]\n",
      "  1 번째 정렬 후: [3, 7, 4, 6, 2, 5, 9, 0, 8, 1]\n",
      "  2 번째 정렬 후: [3, 4, 7, 6, 2, 5, 9, 0, 8, 1]\n",
      "  3 번째 정렬 후: [3, 4, 6, 7, 2, 5, 9, 0, 8, 1]\n",
      "  4 번째 정렬 후: [2, 3, 4, 6, 7, 5, 9, 0, 8, 1]\n",
      "  5 번째 정렬 후: [2, 3, 4, 5, 6, 7, 9, 0, 8, 1]\n",
      "  6 번째 정렬 후: [2, 3, 4, 5, 6, 7, 9, 0, 8, 1]\n",
      "  7 번째 정렬 후: [0, 2, 3, 4, 5, 6, 7, 9, 8, 1]\n",
      "  8 번째 정렬 후: [0, 2, 3, 4, 5, 6, 7, 8, 9, 1]\n",
      "  9 번째 정렬 후: [0, 1, 2, 3, 4, 5, 6, 7, 8, 9]\n",
      "정렬후: [0, 1, 2, 3, 4, 5, 6, 7, 8, 9]\n",
      "정렬에 걸린 시간(s): 0.001352071762084961\n"
     ]
    }
   ],
   "source": [
    "#삽입정렬\n",
    "import random\n",
    "import time\n",
    "\n",
    "listA = list(range(0,10))\n",
    "random.shuffle(listA)\n",
    "print('정렬전: ',listA)\n",
    "\n",
    "start=time.time()\n",
    "\n",
    "for i in range(1,len(listA)):\n",
    "    key = listA[i]\n",
    "    j = i-1\n",
    "    while j>=0 and listA[j]>key:\n",
    "        listA[j+1]=listA[j]\n",
    "        j=j-1\n",
    "    listA[j+1] = key\n",
    "    print(' ',i,'번째 정렬 후:',listA)\n",
    "    \n",
    "print('정렬후:',listA)\n",
    "print('정렬에 걸린 시간(s):',time.time()-start)\n"
   ]
  },
  {
   "cell_type": "markdown",
   "id": "7feb81d9",
   "metadata": {},
   "source": [
    "# P3. 수행시간 비교"
   ]
  },
  {
   "cell_type": "code",
   "execution_count": 23,
   "id": "c59880e8",
   "metadata": {},
   "outputs": [
    {
     "name": "stdout",
     "output_type": "stream",
     "text": [
      "정렬에 걸린 시간(s): 61.812355518341064\n",
      "정렬에 걸린 시간(s): 89.08454179763794\n"
     ]
    }
   ],
   "source": [
    "#선택정렬\n",
    "import random\n",
    "import time\n",
    "\n",
    "num = 40000\n",
    "\n",
    "listA = list(range(0,num))\n",
    "random.shuffle(listA)\n",
    "#print('정렬전: ',listA)\n",
    "\n",
    "start=time.time()\n",
    "for i in range(len(listA)-1):\n",
    "    min_idx=i\n",
    "    for j in range(i+1,len(listA)):\n",
    "        if listA[min_idx]>listA[j]:\n",
    "            min_idx=j\n",
    "    temp=listA[i]\n",
    "    listA[i] = listA[min_idx]\n",
    "    listA[min_idx] = temp\n",
    "    \n",
    "    #print(' ',i+1,'번째 정렬 후:',listA)\n",
    "#print('정렬후:',listA)\n",
    "print('정렬에 걸린 시간(s):',time.time()-start)\n",
    "\n",
    "#삽입정렬\n",
    "\n",
    "listA = list(range(0,num))\n",
    "random.shuffle(listA)\n",
    "#print('정렬전: ',listA)\n",
    "\n",
    "start2=time.time()\n",
    "\n",
    "for i in range(1,len(listA)):\n",
    "    key = listA[i]\n",
    "    j = i-1\n",
    "    while j>=0 and listA[j]>key:\n",
    "        listA[j+1]=listA[j]\n",
    "        j=j-1\n",
    "    listA[j+1] = key\n",
    "    #print(' ',i,'번째 정렬 후:',listA)\n",
    "    \n",
    "#print('정렬후:',listA)\n",
    "print('정렬에 걸린 시간(s):',time.time()-start2)\n"
   ]
  },
  {
   "attachments": {
    "image-2.png": {
     "image/png": "[encoded data removed]"
    }
   },
   "cell_type": "markdown",
   "id": "5e5a5892",
   "metadata": {},
   "source": [
    "![image-2.png](attachment:image-2.png)\n"
   ]
  },
  {
   "cell_type": "markdown",
   "id": "d31a4bf2",
   "metadata": {},
   "source": [
    "# P4. 최대최소 선택정렬"
   ]
  },
  {
   "cell_type": "code",
   "execution_count": 1,
   "id": "d7d548c5",
   "metadata": {},
   "outputs": [
    {
     "name": "stdout",
     "output_type": "stream",
     "text": [
      "정렬전:  [9, 8, 4, 3, 7, 0, 1, 2, 6, 5]\n",
      "최대 9 최소 0\n",
      "  1 번째 정렬 후: [0, 8, 4, 3, 7, 5, 1, 2, 6, 9]\n",
      "최대 8 최소 1\n",
      "  2 번째 정렬 후: [0, 1, 4, 3, 7, 5, 6, 2, 8, 9]\n",
      "최대 7 최소 2\n",
      "  3 번째 정렬 후: [0, 1, 2, 3, 4, 5, 6, 7, 8, 9]\n",
      "최대 6 최소 3\n",
      "  4 번째 정렬 후: [0, 1, 2, 3, 4, 5, 6, 7, 8, 9]\n",
      "최대 5 최소 4\n",
      "  5 번째 정렬 후: [0, 1, 2, 3, 4, 5, 6, 7, 8, 9]\n",
      "정렬후: [0, 1, 2, 3, 4, 5, 6, 7, 8, 9]\n",
      "정렬에 걸린 시간(s): 0.004185676574707031\n"
     ]
    }
   ],
   "source": [
    "import random\n",
    "import time\n",
    "\n",
    "listA = list(range(0,10))\n",
    "random.shuffle(listA)\n",
    "print('정렬전: ',listA)\n",
    "\n",
    "start=time.time()\n",
    "for i in range(int(len(listA)//2)):\n",
    "    min_idx=i\n",
    "    max_idx=i\n",
    "    for j in range(i,len(listA)-i):\n",
    "        if listA[min_idx]>listA[j]:\n",
    "            min_idx=j\n",
    "        if listA[max_idx]<listA[j]:\n",
    "            max_idx=j\n",
    "    print('최대',listA[max_idx],'최소',listA[min_idx])\n",
    "    \n",
    "    maxNum = listA[max_idx]\n",
    "    \n",
    "    temp=listA[i]\n",
    "    listA[i] = listA[min_idx]\n",
    "    listA[min_idx] = temp\n",
    "    \n",
    "    max_idx = listA.index(maxNum)\n",
    "    \n",
    "    temp2=listA[len(listA)-i-1]\n",
    "    listA[len(listA)-i-1] = listA[max_idx]\n",
    "    listA[max_idx] = temp2\n",
    "    \n",
    "    print(' ',i+1,'번째 정렬 후:',listA)\n",
    "print('정렬후:',listA)\n",
    "print('정렬에 걸린 시간(s):',time.time()-start)\n"
   ]
  },
  {
   "cell_type": "code",
   "execution_count": null,
   "id": "9ec2ccd7",
   "metadata": {},
   "outputs": [],
   "source": []
  }
 ],
 "metadata": {
  "kernelspec": {
   "display_name": "Python 3 (ipykernel)",
   "language": "python",
   "name": "python3"
  },
  "language_info": {
   "codemirror_mode": {
    "name": "ipython",
    "version": 3
   },
   "file_extension": ".py",
   "mimetype": "text/x-python",
   "name": "python",
   "nbconvert_exporter": "python",
   "pygments_lexer": "ipython3",
   "version": "3.9.12"
  }
 },
 "nbformat": 4,
 "nbformat_minor": 5
}
