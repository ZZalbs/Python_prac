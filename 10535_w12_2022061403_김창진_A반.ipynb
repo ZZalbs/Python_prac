{
 "cells": [
  {
   "cell_type": "markdown",
   "id": "23a1152b",
   "metadata": {},
   "source": [
    "# P1. merge 함수 구현"
   ]
  },
  {
   "cell_type": "code",
   "execution_count": 13,
   "id": "bf3489f2",
   "metadata": {},
   "outputs": [
    {
     "name": "stdout",
     "output_type": "stream",
     "text": [
      "merge 전: [0, 1, 5, 7, 8] [2, 3, 4, 6, 9]\n",
      "merge 후: [0, 1, 2, 3, 4, 5, 6, 7, 8, 9]\n"
     ]
    }
   ],
   "source": [
    "def merge(left,right):\n",
    "    merged=[]\n",
    "    while (len(left)>0) or (len(right)>0):\n",
    "        if len(right)<=0:\n",
    "            return merged+left\n",
    "        elif len(left)<=0:\n",
    "            return merged+right\n",
    "        else: #왼, 오 모두 존재\n",
    "            if left[0]<=right[0]:\n",
    "                merged.append(left[0])\n",
    "                del left[0]\n",
    "            else:\n",
    "                merged.append(right[0])\n",
    "                del right[0]\n",
    "    print('merged ->',merged)\n",
    "    \n",
    "    return merged\n",
    "\n",
    "def SelectionSort(listA):\n",
    "    #print('정렬전:',listA)\n",
    "    \n",
    "    for i in range(int(len(listA)//2)):\n",
    "        min_idx=i\n",
    "        max_idx=i\n",
    "        for j in range(i,len(listA)-i):\n",
    "            if listA[min_idx]>listA[j]:\n",
    "                min_idx=j\n",
    "            if listA[max_idx]<listA[j]:\n",
    "                max_idx=j\n",
    "        \n",
    "        maxNum = listA[max_idx]\n",
    "\n",
    "        temp=listA[i]\n",
    "        listA[i] = listA[min_idx]\n",
    "        listA[min_idx] = temp\n",
    "\n",
    "        max_idx = listA.index(maxNum)\n",
    "\n",
    "        temp2=listA[len(listA)-i-1]\n",
    "        listA[len(listA)-i-1] = listA[max_idx]\n",
    "        listA[max_idx] = temp2\n",
    "        \n",
    "    return listA\n",
    "\n",
    "\n",
    "\n",
    "    \n",
    "import random\n",
    "listAll = list(range(0,10))\n",
    "random.shuffle(listAll)\n",
    "listA = listAll[:int(len(listAll)//2)]\n",
    "listB = listAll[int(len(listAll)//2):]\n",
    "print('merge 전:',SelectionSort(listA),SelectionSort(listB))\n",
    "print('merge 후:',merge(SelectionSort(listA),SelectionSort(listB)))"
   ]
  },
  {
   "cell_type": "markdown",
   "id": "bf2acbee",
   "metadata": {},
   "source": [
    "# P2. 합병정렬 구현"
   ]
  },
  {
   "cell_type": "code",
   "execution_count": 14,
   "id": "0e2f1f77",
   "metadata": {},
   "outputs": [
    {
     "name": "stdout",
     "output_type": "stream",
     "text": [
      "정렬전: [2, 1, 9, 3, 8, 0, 7, 4, 5, 6]\n",
      "정렬후: [0, 1, 2, 3, 4, 5, 6, 7, 8, 9]\n"
     ]
    }
   ],
   "source": [
    "def mergeSort(beforeList):\n",
    "    if len(beforeList)<=1:\n",
    "        return beforeList\n",
    "    mid = int(len(beforeList)//2)\n",
    "    leftList = mergeSort(beforeList[0:mid])\n",
    "    rightList = mergeSort(beforeList[mid:])\n",
    "    return merge(leftList,rightList)\n",
    "\n",
    "\n",
    "listAll = list(range(0,10))\n",
    "random.shuffle(listAll)\n",
    "print('정렬전:',listAll)\n",
    "print('정렬후:',mergeSort(listAll))"
   ]
  },
  {
   "cell_type": "markdown",
   "id": "c6055fe3",
   "metadata": {},
   "source": []
  },
  {
   "cell_type": "markdown",
   "id": "0da093ab",
   "metadata": {},
   "source": [
    "# P3. 수행시간 비교"
   ]
  },
  {
   "attachments": {
    "8.png": {
     "image/png": "[encoded data removed]"
    }
   },
   "cell_type": "markdown",
   "id": "4b99e456",
   "metadata": {},
   "source": [
    "![8.png](attachment:8.png)"
   ]
  },
  {
   "cell_type": "code",
   "execution_count": null,
   "id": "8bbbc7dc",
   "metadata": {},
   "outputs": [],
   "source": []
  }
 ],
 "metadata": {
  "kernelspec": {
   "display_name": "Python 3 (ipykernel)",
   "language": "python",
   "name": "python3"
  },
  "language_info": {
   "codemirror_mode": {
    "name": "ipython",
    "version": 3
   },
   "file_extension": ".py",
   "mimetype": "text/x-python",
   "name": "python",
   "nbconvert_exporter": "python",
   "pygments_lexer": "ipython3",
   "version": "3.9.12"
  }
 },
 "nbformat": 4,
 "nbformat_minor": 5
}
