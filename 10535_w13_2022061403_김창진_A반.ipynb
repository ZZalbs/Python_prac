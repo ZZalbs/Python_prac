{
 "cells": [
  {
   "cell_type": "markdown",
   "id": "e212ed0d",
   "metadata": {},
   "source": [
    "# P1. partitioning 구현"
   ]
  },
  {
   "cell_type": "code",
   "execution_count": null,
   "id": "baebfc5e",
   "metadata": {},
   "outputs": [],
   "source": [
    "def partition(listA,start, end):\n",
    "    pvt=listA[end]\n",
    "    pvtidx = end\n",
    "    \n",
    "    while start<end:\n",
    "        if listA[start]<=pvt: # 그대로 냅둬도 되는 경우\n",
    "            start=start+1\n",
    "        else: # 바꿔야 되는 경우\n",
    "            listA[start],listA[end-1] = listA[end-1],listA[start]\n",
    "            end=end-1\n",
    "            \n",
    "    listA[pvtidx], listA[start] = listA[start], listA[pvtidx]\n",
    "    \n",
    "    return start,listA"
   ]
  },
  {
   "cell_type": "markdown",
   "id": "7addc1cd",
   "metadata": {},
   "source": [
    "# P2. qSort 구현하기"
   ]
  },
  {
   "cell_type": "code",
   "execution_count": 1,
   "id": "3d7d8673",
   "metadata": {},
   "outputs": [
    {
     "name": "stdout",
     "output_type": "stream",
     "text": [
      "정렬에 걸린 시간(s):  2.3711864948272705\n"
     ]
    }
   ],
   "source": [
    "import random, time\n",
    "listLength = 640000\n",
    "        \n",
    "def genList(listLength):\n",
    "    listA = list(range(0,listLength))\n",
    "    random.shuffle(listA)\n",
    "    return listA\n",
    "\n",
    "def qSort(listA,start,end):\n",
    "    if start<end:\n",
    "        pvt,listA = partition(listA,start,end)#피벗\n",
    "        qSort(listA,start,pvt-1)\n",
    "        qSort(listA,pvt+1,end)\n",
    "    return listA\n",
    "\n",
    "def partition(listA,start, end):\n",
    "    pvt=listA[end]\n",
    "    pvtidx = end\n",
    "    \n",
    "    while start<end:\n",
    "        if listA[start]<=pvt: # 그대로 냅둬도 되는 경우\n",
    "            start=start+1\n",
    "        else: # 바꿔야 되는 경우\n",
    "            # pivot보다 큰 값이 pivot 왼쪽에 있을 때, 가장 오른쪽으로 보낸 뒤 end 하나 줄임\n",
    "            listA[start],listA[end-1] = listA[end-1],listA[start]\n",
    "            end=end-1\n",
    "            \n",
    "    listA[pvtidx], listA[start] = listA[start], listA[pvtidx]\n",
    "    \n",
    "    return start,listA\n",
    "\n",
    "unsorted_List = genList(listLength)\n",
    "start = time.time()\n",
    "sorted_list = qSort(unsorted_List,0,len(unsorted_List)-1)\n",
    "print('정렬에 걸린 시간(s): ',time.time()-start)"
   ]
  },
  {
   "cell_type": "markdown",
   "id": "0eb286c8",
   "metadata": {},
   "source": [
    "# P3. Randomized-Sort 구현하기"
   ]
  },
  {
   "cell_type": "code",
   "execution_count": 2,
   "id": "e45a945f",
   "metadata": {},
   "outputs": [
    {
     "name": "stdout",
     "output_type": "stream",
     "text": [
      "정렬에 걸린 시간(s):  0.006002187728881836\n"
     ]
    }
   ],
   "source": [
    "import random, time\n",
    "\n",
    "\n",
    "def qSort(listA,start,end):\n",
    "    if start<end:\n",
    "        pvt,listA = partition(listA,start,end)#피벗\n",
    "        qSort(listA,start,pvt-1)\n",
    "        qSort(listA,pvt+1,end)\n",
    "    return listA\n",
    "\n",
    "\n",
    "def partition(listA,start, end):\n",
    "    i = random.randint(start,end)\n",
    "    pvtidx = end\n",
    "    listA[pvtidx],listA[i] = listA[i],listA[pvtidx]\n",
    "    pvt=listA[pvtidx]\n",
    "\n",
    "    while start<end:\n",
    "        if listA[start]<=pvt: # 그대로 냅둬도 되는 경우\n",
    "            start=start+1\n",
    "        else: # 바꿔야 되는 경우\n",
    "            listA[start],listA[end-1] = listA[end-1],listA[start]\n",
    "            end=end-1\n",
    "    \n",
    "    listA[pvtidx], listA[start] = listA[start], listA[pvtidx]\n",
    "    \n",
    "    return start,listA\n",
    "\n",
    "unsorted_List = list(range(0,100))\n",
    "#print(unsorted_List)\n",
    "start = time.time()\n",
    "sorted_list = qSort(unsorted_List,0,len(unsorted_List)-1)\n",
    "#print(sorted_list)\n",
    "print('정렬에 걸린 시간(s): ',time.time()-start)"
   ]
  },
  {
   "cell_type": "markdown",
   "id": "249d7dbd",
   "metadata": {},
   "source": [
    "# P4. 빠른 정렬 수행해보기"
   ]
  },
  {
   "attachments": {
    "image.png": {
     "image/png": "[encoded data removed]"
    }
   },
   "cell_type": "markdown",
   "id": "a7eaf333",
   "metadata": {},
   "source": [
    "![image.png](attachment:image.png)\n"
   ]
  },
  {
   "cell_type": "code",
   "execution_count": null,
   "id": "eeb5959e",
   "metadata": {},
   "outputs": [],
   "source": []
  }
 ],
 "metadata": {
  "kernelspec": {
   "display_name": "Python 3 (ipykernel)",
   "language": "python",
   "name": "python3"
  },
  "language_info": {
   "codemirror_mode": {
    "name": "ipython",
    "version": 3
   },
   "file_extension": ".py",
   "mimetype": "text/x-python",
   "name": "python",
   "nbconvert_exporter": "python",
   "pygments_lexer": "ipython3",
   "version": "3.9.12"
  }
 },
 "nbformat": 4,
 "nbformat_minor": 5
}
