{
 "cells": [
  {
   "cell_type": "markdown",
   "id": "54b4c0b8",
   "metadata": {},
   "source": [
    "# 10535_w2_2022061403_김창진_A반"
   ]
  },
  {
   "cell_type": "markdown",
   "id": "9521fe0c",
   "metadata": {},
   "source": [
    "# P1. 변수 이름 만들어보기"
   ]
  },
  {
   "cell_type": "code",
   "execution_count": 10,
   "id": "959a2555",
   "metadata": {},
   "outputs": [],
   "source": [
    "#학생 5명의 중간고사, 기말고사 성적\n",
    "\n",
    "kim_Mid = 10       #김**의 중간고사 성적\n",
    "kim_Fin = 20.5     #김**의 기말고사 성적\n",
    "lee_Mid = 25       #이**의 중간고사 성적\n",
    "lee_Fin = 75.8     #아**의 기말고사 성적\n",
    "jung_Mid = 88      #정**의 중간고사 성적\n",
    "jung_Fin = 0.0     #정**의 기말고사 성적\n",
    "park_Mid = 96      #박**의 중간고사 성적\n",
    "park_Fin = 87.5    #박**의 기말고사 성적\n",
    "jegal_Mid = 67     #제갈**의 중간고사 성적\n",
    "jegal_Fin = 100.0  #제갈**의 기말고사 성적 \n"
   ]
  },
  {
   "cell_type": "markdown",
   "id": "3a8845ff",
   "metadata": {},
   "source": [
    "# P2. 나무를 베자"
   ]
  },
  {
   "cell_type": "code",
   "execution_count": 11,
   "id": "5c1e41c6",
   "metadata": {},
   "outputs": [
    {
     "name": "stdout",
     "output_type": "stream",
     "text": [
      "콩 콩 콩 콩 콩 콩 콩 콩 콩 콩 나무를 10번 찍었습니다.\n"
     ]
    }
   ],
   "source": [
    "print(\"콩 콩 콩 콩 콩 콩 콩 콩 콩 콩 나무를 10번 찍었습니다.\")"
   ]
  },
  {
   "cell_type": "code",
   "execution_count": 12,
   "id": "b900c98d",
   "metadata": {},
   "outputs": [
    {
     "name": "stdout",
     "output_type": "stream",
     "text": [
      "콩 콩 콩 콩 콩 콩 콩 콩 콩 콩 나무를 10번 찍었습니다.\n"
     ]
    }
   ],
   "source": [
    "print(\"콩 \"*10 + \"나무를 10번 찍었습니다.\")"
   ]
  },
  {
   "cell_type": "code",
   "execution_count": 13,
   "id": "c657e847",
   "metadata": {},
   "outputs": [
    {
     "name": "stdout",
     "output_type": "stream",
     "text": [
      "콩 콩 콩 콩 콩 콩 콩 콩 콩 콩 나무를 10번 찍었습니다.\n"
     ]
    }
   ],
   "source": [
    "print(\"콩 \"+\"콩 \"+\"콩 \"+\"콩 \"+\"콩 \"+\"콩 \"+\"콩 \"+\"콩 \"+\"콩 \"+\"콩 \"+\"나무를 10번 찍었습니다.\")"
   ]
  },
  {
   "cell_type": "markdown",
   "id": "d45f79b3",
   "metadata": {},
   "source": [
    "# P3-1. Favorite "
   ]
  },
  {
   "cell_type": "code",
   "execution_count": 14,
   "id": "e88f22a3",
   "metadata": {},
   "outputs": [
    {
     "name": "stdout",
     "output_type": "stream",
     "text": [
      "Tell me your favorites\n",
      "Your favorite fruit is peach\n",
      "Your favorite flower is dandelion\n",
      "Your favorite food is kimchisoup\n",
      "You like peach dandelion kimchisoup\n"
     ]
    }
   ],
   "source": [
    "print('Tell me your favorites')\n",
    "fruit = input('Your favorite fruit is ')\n",
    "flower = input('Your favorite flower is ')\n",
    "food = input('Your favorite food is ')\n",
    "print('You like ' + fruit+\" \"+flower+\" \"+food)"
   ]
  },
  {
   "cell_type": "markdown",
   "id": "9f7bfcd7",
   "metadata": {},
   "source": [
    "# P3-2. 다음과 같은 실행결과가 나오도록 하시오."
   ]
  },
  {
   "cell_type": "code",
   "execution_count": 15,
   "id": "b555c39a",
   "metadata": {},
   "outputs": [
    {
     "name": "stdout",
     "output_type": "stream",
     "text": [
      "이름이 무엇인가요? 김창진\n",
      "전공 분야는 무엇인가요?전기공학\n",
      "프로그램 언어를 배운 적이 있나요(예/아니오)?예\n",
      "프로그램 언어를 배운 적이 있다면 몇 년 정도 인가요?(0/1/2)2\n",
      "프로그램 언어(C/C++, Java, Python) 중 들어본 것이 있나요?c\n",
      "이번 학기 예상되는 학점의 평점은 어떻게 되나요?4.5\n"
     ]
    }
   ],
   "source": [
    "name = input('이름이 무엇인가요? ')\n",
    "major = input('전공 분야는 무엇인가요?')\n",
    "learned = input('프로그램 언어를 배운 적이 있나요(예/아니오)?')\n",
    "howLong= input('프로그램 언어를 배운 적이 있다면 몇 년 정도 인가요?(0/1/2)')\n",
    "lang= input('프로그램 언어(C/C++, Java, Python) 중 들어본 것이 있나요?')\n",
    "expect = input('이번 학기 예상되는 학점의 평점은 어떻게 되나요?')"
   ]
  },
  {
   "cell_type": "markdown",
   "id": "41d8a61b",
   "metadata": {},
   "source": [
    "# P3-3. 두 수의 합"
   ]
  },
  {
   "cell_type": "code",
   "execution_count": 16,
   "id": "535d88e8",
   "metadata": {},
   "outputs": [
    {
     "ename": "NameError",
     "evalue": "name 'n1' is not defined",
     "output_type": "error",
     "traceback": [
      "\u001b[1;31m---------------------------------------------------------------------------\u001b[0m",
      "\u001b[1;31mNameError\u001b[0m                                 Traceback (most recent call last)",
      "Input \u001b[1;32mIn [16]\u001b[0m, in \u001b[0;36m<cell line: 2>\u001b[1;34m()\u001b[0m\n\u001b[0;32m      1\u001b[0m \u001b[38;5;66;03m#오류가 발생한 코드\u001b[39;00m\n\u001b[1;32m----> 2\u001b[0m n3 \u001b[38;5;241m=\u001b[39m \u001b[43mn1\u001b[49m\u001b[38;5;241m+\u001b[39mn2\n\u001b[0;32m      3\u001b[0m n1 \u001b[38;5;241m=\u001b[39m \u001b[38;5;28mint\u001b[39m(\u001b[38;5;28minput\u001b[39m(\u001b[38;5;124m'\u001b[39m\u001b[38;5;124m숫자 입력 : \u001b[39m\u001b[38;5;124m'\u001b[39m))\n\u001b[0;32m      4\u001b[0m n2 \u001b[38;5;241m=\u001b[39m \u001b[38;5;28mint\u001b[39m(\u001b[38;5;28minput\u001b[39m(\u001b[38;5;124m'\u001b[39m\u001b[38;5;124m숫자 입력 : \u001b[39m\u001b[38;5;124m'\u001b[39m))\n",
      "\u001b[1;31mNameError\u001b[0m: name 'n1' is not defined"
     ]
    }
   ],
   "source": [
    "#오류가 발생한 코드\n",
    "n3 = n1+n2\n",
    "n1 = int(input('숫자 입력 : '))\n",
    "n2 = int(input('숫자 입력 : '))\n",
    "print('두 수의 합은',n3,'입니다')\n",
    "\n",
    "#오류가 발생한 이유 : 코드는 위에서부터 순서대로 실행되기 때문에, 첫 번째 줄에서 n1,n2값이 정의되어있지 않아 오류가 발생"
   ]
  },
  {
   "cell_type": "code",
   "execution_count": 17,
   "id": "0fc32975",
   "metadata": {
    "scrolled": true
   },
   "outputs": [
    {
     "name": "stdout",
     "output_type": "stream",
     "text": [
      "숫자 입력 : 3\n",
      "숫자 입력 : 2\n",
      "두 수의 합은 5 입니다\n"
     ]
    }
   ],
   "source": [
    "#수정한 코드\n",
    "\n",
    "n1 = int(input('숫자 입력 : '))\n",
    "n2 = int(input('숫자 입력 : '))\n",
    "n3 = n1+n2\n",
    "print('두 수의 합은',n3,'입니다')\n"
   ]
  },
  {
   "cell_type": "markdown",
   "id": "33dceabd",
   "metadata": {},
   "source": [
    "# P4. 자릿수 구분하기"
   ]
  },
  {
   "cell_type": "code",
   "execution_count": 18,
   "id": "346a197d",
   "metadata": {
    "scrolled": true
   },
   "outputs": [
    {
     "name": "stdout",
     "output_type": "stream",
     "text": [
      "정수를 입력하세요: 3664\n",
      "천의 자리수:  3\n",
      "백의 자리수:  6\n",
      "십의 자리수:  6\n",
      "일의 자리수:  4\n"
     ]
    }
   ],
   "source": [
    "num = int(input('정수를 입력하세요: '))\n",
    "first =num%10\n",
    "num//=10\n",
    "second = num%10\n",
    "num//=10\n",
    "third = num%10\n",
    "num//=10\n",
    "fourth = num%10\n",
    "print('천의 자리수: ',fourth)\n",
    "print('백의 자리수: ',third)\n",
    "print('십의 자리수: ',second)\n",
    "print('일의 자리수: ',first)"
   ]
  },
  {
   "cell_type": "markdown",
   "id": "8a6c48aa",
   "metadata": {},
   "source": [
    "# P5. 시분초"
   ]
  },
  {
   "cell_type": "code",
   "execution_count": 19,
   "id": "06838cd0",
   "metadata": {
    "scrolled": true
   },
   "outputs": [
    {
     "name": "stdout",
     "output_type": "stream",
     "text": [
      "몇초인가요? 3663\n",
      "1 시간  1 분  3 초\n"
     ]
    }
   ],
   "source": [
    "num = int(input(\"몇초인가요? \"))\n",
    "hour = num//3600\n",
    "num%=3600\n",
    "min = num//60\n",
    "num%=60\n",
    "sec = num\n",
    "print(hour,\"시간 \",min,\"분 \",sec,\"초\")"
   ]
  },
  {
   "cell_type": "markdown",
   "id": "0fbe850d",
   "metadata": {},
   "source": [
    "# P6. 시각화하기"
   ]
  },
  {
   "cell_type": "code",
   "execution_count": 20,
   "id": "1b425aa2",
   "metadata": {},
   "outputs": [
    {
     "name": "stdout",
     "output_type": "stream",
     "text": [
      "점수를 입력하세요. 86\n",
      "---- 막대그래프------\n",
      "86 점 ********\n"
     ]
    }
   ],
   "source": [
    "score = int(input('점수를 입력하세요. '))\n",
    "star = score//10\n",
    "print(\"---- 막대그래프------\")\n",
    "print(score,\"점\",star*\"*\")"
   ]
  }
 ],
 "metadata": {
  "kernelspec": {
   "display_name": "Python 3 (ipykernel)",
   "language": "python",
   "name": "python3"
  },
  "language_info": {
   "codemirror_mode": {
    "name": "ipython",
    "version": 3
   },
   "file_extension": ".py",
   "mimetype": "text/x-python",
   "name": "python",
   "nbconvert_exporter": "python",
   "pygments_lexer": "ipython3",
   "version": "3.9.12"
  }
 },
 "nbformat": 4,
 "nbformat_minor": 5
}
