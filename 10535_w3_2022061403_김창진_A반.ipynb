{
 "cells": [
  {
   "cell_type": "markdown",
   "id": "957a4b31",
   "metadata": {},
   "source": [
    "# P1. 우측 순서도를 참고하여 아래 소스코드를 작성하고 실행해보세요."
   ]
  },
  {
   "cell_type": "code",
   "execution_count": 1,
   "id": "ced72a8c",
   "metadata": {
    "scrolled": true
   },
   "outputs": [
    {
     "name": "stdout",
     "output_type": "stream",
     "text": [
      "안녕? 나는 두더지, 땅굴의 전문가지~\n",
      "나는 1번~7번 사이 땅굴에 숨어 있을게. \n",
      "내가 숨은 곳을 찾아봐~\n",
      "\n",
      "두더지가 있는 땅굴번호를 맞춰보세요(1~7): 3\n",
      "나를 찾았군! 잘 했다.\n"
     ]
    }
   ],
   "source": [
    "print('안녕? 나는 두더지, 땅굴의 전문가지~')\n",
    "print('나는 1번~7번 사이 땅굴에 숨어 있을게. ')\n",
    "print('내가 숨은 곳을 찾아봐~')\n",
    "print()\n",
    "\n",
    "burrow = 3\n",
    "guess = int(input('두더지가 있는 땅굴번호를 맞춰보세요(1~7): '))\n",
    "\n",
    "if(burrow == guess):\n",
    "    print('나를 찾았군! 잘 했다.')\n",
    "if(burrow!=guess):\n",
    "    print('아니야. 나는',burrow,'에 있어.')"
   ]
  },
  {
   "cell_type": "markdown",
   "id": "5e89768f",
   "metadata": {},
   "source": [
    "# P2. 다음 소스코드들의 실행 결과를 예상해본 후, 그 결과를 확인하세요."
   ]
  },
  {
   "cell_type": "markdown",
   "id": "7831319a",
   "metadata": {},
   "source": [
    "## P2-1"
   ]
  },
  {
   "cell_type": "code",
   "execution_count": 2,
   "id": "66536cb0",
   "metadata": {
    "scrolled": true
   },
   "outputs": [
    {
     "ename": "NameError",
     "evalue": "name 'b' is not defined",
     "output_type": "error",
     "traceback": [
      "\u001b[1;31m---------------------------------------------------------------------------\u001b[0m",
      "\u001b[1;31mNameError\u001b[0m                                 Traceback (most recent call last)",
      "Input \u001b[1;32mIn [2]\u001b[0m, in \u001b[0;36m<cell line: 5>\u001b[1;34m()\u001b[0m\n\u001b[0;32m      3\u001b[0m     a\u001b[38;5;241m=\u001b[39ma\u001b[38;5;241m-\u001b[39m\u001b[38;5;241m5\u001b[39m\n\u001b[0;32m      4\u001b[0m     b\u001b[38;5;241m=\u001b[39ma\u001b[38;5;241m*\u001b[39m\u001b[38;5;241m10\u001b[39m\n\u001b[1;32m----> 5\u001b[0m \u001b[38;5;28mprint\u001b[39m(a,\u001b[43mb\u001b[49m)\n",
      "\u001b[1;31mNameError\u001b[0m: name 'b' is not defined"
     ]
    }
   ],
   "source": [
    "a=5\n",
    "if(a%2==0):\n",
    "    a=a-5\n",
    "    b=a*10\n",
    "print(a,b)\n",
    "\n",
    "# 조건문이 실행되지 않아 오류날 것"
   ]
  },
  {
   "cell_type": "markdown",
   "id": "7985c2ec",
   "metadata": {},
   "source": [
    "## P2-2"
   ]
  },
  {
   "cell_type": "code",
   "execution_count": 3,
   "id": "f7200a48",
   "metadata": {
    "scrolled": true
   },
   "outputs": [
    {
     "name": "stdout",
     "output_type": "stream",
     "text": [
      "5 50\n"
     ]
    }
   ],
   "source": [
    "a=5\n",
    "if(a%2==0):\n",
    "    a=a-5\n",
    "b=a*10\n",
    "print(a,b)\n",
    "\n",
    "# 5 50"
   ]
  },
  {
   "cell_type": "markdown",
   "id": "5ace590f",
   "metadata": {},
   "source": [
    "# P3. 다음 소스코드는 음식 토너먼트의 일부이다. q1에 대한 if-else문을 참고해서 q2~q5에 대해 if-else문을 추가하여 프로그램을 완성하세요."
   ]
  },
  {
   "cell_type": "code",
   "execution_count": 4,
   "id": "1a6f4e08",
   "metadata": {},
   "outputs": [
    {
     "name": "stdout",
     "output_type": "stream",
     "text": [
      "음식 이상형 월드컵~\n",
      "당신이 좋아하는 음식을 입력해주세요.\n",
      "1. 짜장면 vs 짬뽕짬뽕\n",
      "2. 햄버거 vs 피자햄버거\n",
      "3. 봉골레파스타 vs 로제파스타로제파스타\n",
      "4. 양념치킨 vs 후라이드치킨후라이드치킨\n",
      "5. 콜라 vs 사이다콜라\n",
      "당신은 짜장면보다 짬뽕을 좋아합니다.\n",
      "당신은 피자보다 햄버거를 좋아합니다.\n",
      "당신은 봉골레파스타보다 로제파스타를 좋아합니다.\n",
      "당신은 양념치킨보다 후라이드치킨을 좋아합니다.\n",
      "당신은 사이다보다 콜라를 좋아합니다.\n"
     ]
    }
   ],
   "source": [
    "print('음식 이상형 월드컵~')\n",
    "print('당신이 좋아하는 음식을 입력해주세요.')\n",
    "\n",
    "q1= input('1. 짜장면 vs 짬뽕')\n",
    "q2= input('2. 햄버거 vs 피자')\n",
    "q3= input('3. 봉골레파스타 vs 로제파스타')\n",
    "q4= input('4. 양념치킨 vs 후라이드치킨')\n",
    "q5= input('5. 콜라 vs 사이다')\n",
    "\n",
    "if(q1=='짜장면'):\n",
    "    print('당신은 짬뽕보다 짜장면을 좋아합니다.')\n",
    "else:\n",
    "    print('당신은 짜장면보다 짬뽕을 좋아합니다.')\n",
    "    \n",
    "if(q2=='피자'):\n",
    "    print('당신은 햄버거보다 피자를 좋아합니다.')\n",
    "else:\n",
    "    print('당신은 피자보다 햄버거를 좋아합니다.')\n",
    "    \n",
    "if(q3=='로제파스타'):\n",
    "    print('당신은 봉골레파스타보다 로제파스타를 좋아합니다.')\n",
    "else:\n",
    "    print('당신은 로제파스타보다 봉골레파스타를 좋아합니다.')\n",
    "    \n",
    "if(q4=='양념치킨'):\n",
    "    print('당신은 후라이드치킨보다 양념치킨을 좋아합니다.')\n",
    "else:\n",
    "    print('당신은 양념치킨보다 후라이드치킨을 좋아합니다.')\n",
    "    \n",
    "if(q5=='사이다'):\n",
    "    print('당신은 콜라보다 사이다를 좋아합니다.')\n",
    "else:\n",
    "    print('당신은 사이다보다 콜라를 좋아합니다.')\n"
   ]
  },
  {
   "cell_type": "markdown",
   "id": "b885cfe5",
   "metadata": {},
   "source": [
    "# P4. 임의의 정수를 1개 입력받아 양수,0,음수를 구별하고 출력하는 프로그램을 작성하세요.\n",
    " if-elif-else문을 사용하여 작성하세요"
   ]
  },
  {
   "cell_type": "code",
   "execution_count": 7,
   "id": "da946bee",
   "metadata": {
    "scrolled": true
   },
   "outputs": [
    {
     "name": "stdout",
     "output_type": "stream",
     "text": [
      "정수 1개를 입력하시오: -1\n",
      "음수입니다.\n"
     ]
    }
   ],
   "source": [
    "num = int(input('정수 1개를 입력하시오: '))\n",
    "if(num>0):\n",
    "    print('양수입니다.')\n",
    "elif(num<0):\n",
    "    print('음수입니다.')\n",
    "else:\n",
    "    print('영입니다.')"
   ]
  },
  {
   "cell_type": "markdown",
   "id": "7b1be8c3",
   "metadata": {},
   "source": [
    "# P5. 두 정수를 입력받아 큰수와 작은수로 구분하여 출력하는 프로그램을 작성하세요."
   ]
  },
  {
   "cell_type": "code",
   "execution_count": 11,
   "id": "9473b0e2",
   "metadata": {
    "scrolled": true
   },
   "outputs": [
    {
     "name": "stdout",
     "output_type": "stream",
     "text": [
      "첫 번째 정수를 입력하시오: 50\n",
      "두 번째 정수를 입력하시오: 50\n",
      "두 수는 같습니다.\n"
     ]
    }
   ],
   "source": [
    "num1 = int(input('첫 번째 정수를 입력하시오: '))\n",
    "num2 = int(input('두 번째 정수를 입력하시오: '))\n",
    "if(num1>num2):\n",
    "    print('큰 수:',num1)\n",
    "    print('작은 수:',num2)\n",
    "elif(num1<num2):\n",
    "    print('큰 수:',num2)\n",
    "    print('작은 수:',num1)\n",
    "else:\n",
    "    print('두 수는 같습니다.')\n",
    "\n"
   ]
  },
  {
   "cell_type": "markdown",
   "id": "f6dd5f2c",
   "metadata": {},
   "source": [
    "# P6. 중간고사 점수와 기말고사 점수를 입력받아 평균을 구하고, 아래 규칙에 따라 결과를 출력하는 프로그램을 작성하세요."
   ]
  },
  {
   "cell_type": "code",
   "execution_count": 13,
   "id": "f9dccf16",
   "metadata": {},
   "outputs": [
    {
     "name": "stdout",
     "output_type": "stream",
     "text": [
      "중간고사 점수를 입력해주세요: 45\n",
      "기말고사 점수를 입력해주세요: 70\n",
      "See you again!\n",
      "평균점수는 57.5입니다.\n"
     ]
    }
   ],
   "source": [
    "mid = int(input('중간고사 점수를 입력해주세요: '))\n",
    "fin = int(input('기말고사 점수를 입력해주세요: '))\n",
    "avg = (mid+fin)/2.0\n",
    "if(avg>=90):\n",
    "    print('Excellent!')\n",
    "elif(avg>=80):\n",
    "    print('Good!')\n",
    "elif(avg>=70):\n",
    "    print('Fair~')\n",
    "else:\n",
    "    print('See you again!')\n",
    "print('평균점수는 '+str(avg)+'입니다.')"
   ]
  }
 ],
 "metadata": {
  "kernelspec": {
   "display_name": "Python 3 (ipykernel)",
   "language": "python",
   "name": "python3"
  },
  "language_info": {
   "codemirror_mode": {
    "name": "ipython",
    "version": 3
   },
   "file_extension": ".py",
   "mimetype": "text/x-python",
   "name": "python",
   "nbconvert_exporter": "python",
   "pygments_lexer": "ipython3",
   "version": "3.9.12"
  }
 },
 "nbformat": 4,
 "nbformat_minor": 5
}
