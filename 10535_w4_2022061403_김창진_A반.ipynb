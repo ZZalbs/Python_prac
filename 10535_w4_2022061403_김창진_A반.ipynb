{
 "cells": [
  {
   "cell_type": "markdown",
   "id": "b1a5985b",
   "metadata": {},
   "source": [
    "# P1. 다음과 같이 실행되는 프로그램을 작성하세요.\n",
    "#### 사용자로부터 숫자를 입력받는다.\n",
    "#### 1부터 사용자가 입력한 숫자 사이에서 무작위로 값을 선택하여 출력한다."
   ]
  },
  {
   "cell_type": "code",
   "execution_count": 16,
   "id": "54f58057",
   "metadata": {},
   "outputs": [
    {
     "name": "stdout",
     "output_type": "stream",
     "text": [
      "숫자를 입력하세요.\n",
      "500\n",
      "1부터 500까지에서 무작위로 선택된 값은 141입니다.\n"
     ]
    }
   ],
   "source": [
    "import random\n",
    "print('숫자를 입력하세요.')\n",
    "a = int(input())\n",
    "num = random.randint(1,a)\n",
    "print('1부터 500까지에서 무작위로 선택된 값은 '+str(num)+'입니다.')"
   ]
  },
  {
   "cell_type": "markdown",
   "id": "01f72b65",
   "metadata": {},
   "source": [
    "# P2. 다음과 같이 실행되는 프로그램을 작성하세요.\n",
    "#### 1~5 사이의 무작위 숫자를 1개 생성하세요.\n",
    "#### 사용자로부터 1~5사이의 추측값을 1개를 입력받으세요.\n",
    "#### 두 숫자가 같다면, 두 숫자와 '맞췄습니다'를 출력하고 두 숫자가 다르면 두 숫자와 '틀렸습니다'를 출력하세요."
   ]
  },
  {
   "cell_type": "code",
   "execution_count": 94,
   "id": "21f659ec",
   "metadata": {},
   "outputs": [
    {
     "name": "stdout",
     "output_type": "stream",
     "text": [
      "1~5 사이의 숫자를 입력해주세요.3\n",
      "맞췄습니다.\n",
      "정답 : 3 추측 : 3\n"
     ]
    }
   ],
   "source": [
    "import random\n",
    "num = random.randint(1,5)\n",
    "a = int(input('1~5 사이의 숫자를 입력해주세요.'))\n",
    "if(a==num):\n",
    "    print('맞췄습니다.')\n",
    "else:\n",
    "    print('틀렸습니다.')\n",
    "print('정답 :',num,'추측 :',a)"
   ]
  },
  {
   "cell_type": "markdown",
   "id": "d3bd5b27",
   "metadata": {},
   "source": [
    "# P3. ID와 PW를 입력받아 로그인 성공여부를 출력하는 프로그램을 작성하세요.\n",
    "#### 아이디가 'python'이고, 비밀번호가 'fun'이면 '로그인 성공'이라고 출력한다.\n",
    "#### 아이디가 틀리면 '아이디 오류입니다' 라고 출력하고 비밀번호는 비교하지 않는다.\n",
    "#### 비밀번호가 틀리면 '비밀번호 오류입니다' 라고 출력한다."
   ]
  },
  {
   "cell_type": "code",
   "execution_count": 22,
   "id": "80106336",
   "metadata": {
    "scrolled": true
   },
   "outputs": [
    {
     "name": "stdout",
     "output_type": "stream",
     "text": [
      "아이디를 입력해주세요: python\n",
      "비밀번호를 입력해주세요: fun\n",
      "로그인 성공\n"
     ]
    }
   ],
   "source": [
    "id = input('아이디를 입력해주세요: ')\n",
    "pw = input('비밀번호를 입력해주세요: ')\n",
    "if(id!='python'):\n",
    "    print('아이디 오류입니다.')\n",
    "elif(id=='python' and pw!='fun'):\n",
    "    print('비밀번호 오류입니다.')\n",
    "else:\n",
    "    print('로그인 성공')"
   ]
  },
  {
   "cell_type": "markdown",
   "id": "63caa342",
   "metadata": {},
   "source": [
    "# P4. 다음과 같이 작동하는 프로그램을 작성하세요.\n",
    "### 무작위로 정수를 3개(a,b,c) 생성한 뒤 그 중 가장 큰 수와 가장 작은 수를 찾고 a,b,c,가장 큰 수, 가장 작은 수를 출력하세요.\n",
    "#### 정수의 범위는 1부터 100으로 한다.\n",
    "#### a,b,c 중 동일한 숫자가 있을 수도 있다. "
   ]
  },
  {
   "cell_type": "code",
   "execution_count": 91,
   "id": "4b879015",
   "metadata": {
    "scrolled": true
   },
   "outputs": [
    {
     "name": "stdout",
     "output_type": "stream",
     "text": [
      "첫번째 두번째 세번째\n",
      "86 61 72\n",
      "가장 큰 수는 : 86\n",
      "가장 작은 수는 : 61\n"
     ]
    }
   ],
   "source": [
    "import random\n",
    "a = random.randint(1,100)\n",
    "b = random.randint(1,100)\n",
    "c = random.randint(1,100)\n",
    "max = a\n",
    "min=b\n",
    "\n",
    "if(a>=b):\n",
    "    if(b>=c):\n",
    "        max=a\n",
    "        min=c\n",
    "    elif(c>=a):\n",
    "        max=c\n",
    "        min=b\n",
    "    else:\n",
    "        max=a\n",
    "        min=b\n",
    "elif(b>a):\n",
    "    if(c>b):\n",
    "        max=c\n",
    "        min=a\n",
    "    elif(a>c):\n",
    "        max=b\n",
    "        min=c\n",
    "    else:\n",
    "        max=b\n",
    "        min=a\n",
    "        \n",
    "print('첫번째','두번째','세번째')\n",
    "print(a,b,c)\n",
    "print('가장 큰 수는 :',max)\n",
    "print('가장 작은 수는 :',min)\n"
   ]
  },
  {
   "cell_type": "markdown",
   "id": "72771dfe",
   "metadata": {},
   "source": [
    "# P5. 참가자 3명이 가위바위보 게임을 하는 프로그램을 작성하세요.\n",
    "### 승패의 결과를 출력하고 승자가 있으면 이름을 출력합니다.\n",
    "#### 참가자가 무엇을 낼지는 무작위 명령어를 이용하세요."
   ]
  },
  {
   "cell_type": "code",
   "execution_count": 69,
   "id": "4fb03326",
   "metadata": {},
   "outputs": [
    {
     "name": "stdout",
     "output_type": "stream",
     "text": [
      "가위바위보~ 가위바위보~\n",
      "참가자 1: 보\n",
      "참가자 2: 바위\n",
      "참가자 3: 보\n",
      "\n",
      "승자 : 참가자1,참가자3\n"
     ]
    }
   ],
   "source": [
    "import random\n",
    "print(\"가위바위보~ 가위바위보~\")\n",
    "\n",
    "playerNum_1 = random.randint(1,3)\n",
    "playerNum_2 = random.randint(1,3)\n",
    "playerNum_3 = random.randint(1,3)\n",
    "\n",
    "if(playerNum_1 == 1):\n",
    "    playerHand_1 = '가위'\n",
    "elif(playerNum_1 == 2):\n",
    "    playerHand_1 = '바위'\n",
    "else:\n",
    "    playerHand_1 = '보'\n",
    "    \n",
    "if(playerNum_2 == 1):\n",
    "    playerHand_2 = '가위'\n",
    "elif(playerNum_2 == 2):\n",
    "    playerHand_2 = '바위'\n",
    "else:\n",
    "    playerHand_2 = '보'\n",
    "    \n",
    "if(playerNum_3 == 1):\n",
    "    playerHand_3 = '가위'\n",
    "elif(playerNum_3 == 2):\n",
    "    playerHand_3 = '바위'\n",
    "else:\n",
    "    playerHand_3 = '보'\n",
    "\n",
    "    \n",
    "print('참가자 1:',playerHand_1)\n",
    "print('참가자 2:',playerHand_2)\n",
    "print('참가자 3:',playerHand_3)\n",
    "print('')\n",
    "\n",
    "#비김\n",
    "if((playerHand_1==playerHand_2==playerHand_3) or (playerHand_1!=playerHand_2 and playerHand_2!=playerHand_3 and playerHand_3!=playerHand_1)):\n",
    "    print('비겼습니다.')\n",
    "\n",
    "# 2명 우승 \n",
    "elif((playerHand_1=='가위' and playerHand_2=='바위' and playerHand_3=='바위') or (playerHand_1=='바위' and playerHand_2=='보' and playerHand_3=='보') or (playerHand_1=='보' and playerHand_2=='가위' and playerHand_3=='가위')):\n",
    "    winner = '참가자2,참가자3'\n",
    "    print('승자 :',winner)\n",
    "elif((playerHand_1=='바위' and playerHand_2=='바위' and playerHand_3=='가위') or (playerHand_1=='가위' and playerHand_2=='가위' and playerHand_3=='보') or (playerHand_1=='보' and playerHand_2=='보' and playerHand_3=='바위')):\n",
    "    winner = '참가자1,참가자2'  \n",
    "    print('승자 :',winner)\n",
    "elif((playerHand_1=='가위' and playerHand_2=='보' and playerHand_3=='가위') or (playerHand_1=='보' and playerHand_2=='바위' and playerHand_3=='보') or (playerHand_1=='바위' and playerHand_2=='가위' and playerHand_3=='바위')):\n",
    "    winner = '참가자1,참가자3'\n",
    "    print('승자 :',winner)\n",
    "\n",
    "# 1명 우승\n",
    "elif((playerHand_1=='보' and playerHand_2=='바위' and playerHand_3=='바위') or (playerHand_1=='가위' and playerHand_2=='보' and playerHand_3=='보') or (playerHand_1=='바위' and playerHand_2=='가위' and playerHand_3=='가위')):\n",
    "    winner = '참가자1'\n",
    "    print('승자 :',winner)\n",
    "elif((playerHand_1=='바위' and playerHand_2=='바위' and playerHand_3=='보') or (playerHand_1=='가위' and playerHand_2=='가위' and playerHand_3=='바위') or (playerHand_1=='보' and playerHand_2=='보' and playerHand_3=='가위')):\n",
    "    winner = '참가자3' \n",
    "    print('승자 :',winner)\n",
    "elif((playerHand_1=='가위' and playerHand_2=='바위' and playerHand_3=='가위') or (playerHand_1=='보' and playerHand_2=='가위' and playerHand_3=='보') or (playerHand_1=='바위' and playerHand_2=='보' and playerHand_3=='바위')):\n",
    "    winner = '참가자2'\n",
    "    print('승자 :',winner)\n",
    "    \n",
    "    \n"
   ]
  }
 ],
 "metadata": {
  "kernelspec": {
   "display_name": "Python 3 (ipykernel)",
   "language": "python",
   "name": "python3"
  },
  "language_info": {
   "codemirror_mode": {
    "name": "ipython",
    "version": 3
   },
   "file_extension": ".py",
   "mimetype": "text/x-python",
   "name": "python",
   "nbconvert_exporter": "python",
   "pygments_lexer": "ipython3",
   "version": "3.9.12"
  }
 },
 "nbformat": 4,
 "nbformat_minor": 5
}
