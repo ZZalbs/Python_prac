{
 "cells": [
  {
   "cell_type": "markdown",
   "id": "74412d4b",
   "metadata": {},
   "source": [
    "## P1. 다음 while 반복문의 실행결과를 예측하고, 실행해보세요."
   ]
  },
  {
   "cell_type": "code",
   "execution_count": 8,
   "id": "83c58c60",
   "metadata": {},
   "outputs": [
    {
     "name": "stdout",
     "output_type": "stream",
     "text": [
      "programming\n"
     ]
    }
   ],
   "source": [
    "a=10\n",
    "while a<5:\n",
    "    print('computer')\n",
    "    a=a+1\n",
    "print('programming')\n",
    "#a가 이미 while조건을 불만족하므로 while문에 아예 진입하지 않음.\n",
    "# while문 바깥의 programming만 출력될것"
   ]
  },
  {
   "cell_type": "code",
   "execution_count": 9,
   "id": "0a357538",
   "metadata": {},
   "outputs": [
    {
     "name": "stdout",
     "output_type": "stream",
     "text": [
      "s= 16 a= 9\n"
     ]
    }
   ],
   "source": [
    "a=1\n",
    "s=0\n",
    "while s<10:\n",
    "    s=s+a\n",
    "    a=a+2\n",
    "print('s=',s,'a=',a)\n",
    "# while 진입시 a와 s의 변화\n",
    "# a : 3 5 7  9...\n",
    "# s : 1 4 9 16 -> while 종료\n",
    "# 16, 9 나옴"
   ]
  },
  {
   "cell_type": "code",
   "execution_count": 11,
   "id": "a942bf71",
   "metadata": {},
   "outputs": [
    {
     "name": "stdout",
     "output_type": "stream",
     "text": [
      "s= 60\n"
     ]
    }
   ],
   "source": [
    "a='start'\n",
    "s=0\n",
    "while a!='end':\n",
    "    s=s+10\n",
    "    if s>50:\n",
    "        a='end'\n",
    "print('s=',s)\n",
    "# a=end가 될 때, s의 최소는 60이므로 s=60 출력"
   ]
  },
  {
   "cell_type": "markdown",
   "id": "90cbb958",
   "metadata": {},
   "source": [
    "## P2. 홀수와 짝수의 개수 구하기"
   ]
  },
  {
   "cell_type": "code",
   "execution_count": 23,
   "id": "ae2c2e13",
   "metadata": {},
   "outputs": [
    {
     "name": "stdout",
     "output_type": "stream",
     "text": [
      "1 번째 생성된 수는 60 이고 짝수입니다.\n",
      "2 번째 생성된 수는 35 이고 홀수입니다.\n",
      "3 번째 생성된 수는 44 이고 짝수입니다.\n",
      "4 번째 생성된 수는 61 이고 홀수입니다.\n",
      "5 번째 생성된 수는 8 이고 짝수입니다.\n",
      "6 번째 생성된 수는 75 이고 홀수입니다.\n",
      "7 번째 생성된 수는 91 이고 홀수입니다.\n",
      "8 번째 생성된 수는 39 이고 홀수입니다.\n",
      "9 번째 생성된 수는 10 이고 짝수입니다.\n",
      "10 번째 생성된 수는 55 이고 홀수입니다.\n",
      "\n",
      "생성된 수 중 홀수는 6 개이고\n",
      "생성된 수 중 짝수는 4 개입니다.\n"
     ]
    }
   ],
   "source": [
    "import random\n",
    "\n",
    "\n",
    "cnt=1\n",
    "hol = 0\n",
    "zzak = 0\n",
    "while cnt<=10:\n",
    "    num = random.randint(1,100)\n",
    "    if(num%2==1):\n",
    "        hol=hol+1\n",
    "        print(cnt,'번째 생성된 수는',num,'이고 홀수입니다.')\n",
    "    elif(num%2==0):\n",
    "        zzak=zzak+1\n",
    "        print(cnt,'번째 생성된 수는',num,'이고 짝수입니다.')\n",
    "    cnt=cnt+1\n",
    "print()\n",
    "print('생성된 수 중 홀수는',hol,'개이고')\n",
    "print('생성된 수 중 짝수는',zzak,'개입니다.')"
   ]
  },
  {
   "cell_type": "markdown",
   "id": "65e47126",
   "metadata": {},
   "source": [
    "## P3. 합과 평균 구하기"
   ]
  },
  {
   "cell_type": "code",
   "execution_count": 26,
   "id": "d33f77b1",
   "metadata": {},
   "outputs": [
    {
     "name": "stdout",
     "output_type": "stream",
     "text": [
      "정수 입력:50\n",
      "정수 입력:64\n",
      "정수 입력:14\n",
      "정수 입력:60\n",
      "정수 입력:10\n",
      "정수 입력:입력끝\n",
      "합계는 198 이고, 평균은 39.6 입니다.\n"
     ]
    }
   ],
   "source": [
    "import random\n",
    "\n",
    "a = '0'\n",
    "sum=0\n",
    "cnt=0\n",
    "while a!='입력끝':\n",
    "    a = input('정수 입력:')\n",
    "    if(a!='입력끝'):\n",
    "        sum = sum+int(a)\n",
    "        cnt=cnt+1\n",
    "    \n",
    "print('합계는',sum,'이고, 평균은',sum/cnt,'입니다.')\n",
    "    "
   ]
  },
  {
   "cell_type": "markdown",
   "id": "6768e1eb",
   "metadata": {},
   "source": [
    "## P4. 1초간 멈추었다가 출력하기"
   ]
  },
  {
   "cell_type": "code",
   "execution_count": 28,
   "id": "33b7814e",
   "metadata": {
    "scrolled": true
   },
   "outputs": [
    {
     "name": "stdout",
     "output_type": "stream",
     "text": [
      "다음 문장은 거의 동시에 출력됩니다.\n",
      "다음 문장은 거의 동시에 출력됩니다.\n",
      "다음 문장은 거의 동시에 출력됩니다.\n",
      "다음 문장은 거의 동시에 출력됩니다.\n",
      "다음 문장은 거의 동시에 출력됩니다.\n",
      "\n",
      "다음 문장은 1초 뒤에 출력됩니다.\n",
      "다음 문장은 1초 뒤에 출력됩니다.\n",
      "다음 문장은 1초 뒤에 출력됩니다.\n",
      "다음 문장은 1초 뒤에 출력됩니다.\n",
      "다음 문장은 1초 뒤에 출력됩니다.\n"
     ]
    }
   ],
   "source": [
    "import time\n",
    "cnt=0\n",
    "while cnt<5:\n",
    "    print('다음 문장은 거의 동시에 출력됩니다.')\n",
    "    cnt = cnt+1\n",
    "print()\n",
    "cnt=0\n",
    "\n",
    "while cnt<5:\n",
    "    print('다음 문장은 1초 뒤에 출력됩니다.')\n",
    "    time.sleep(1)\n",
    "    cnt=cnt+1"
   ]
  },
  {
   "cell_type": "markdown",
   "id": "af24fa37",
   "metadata": {},
   "source": [
    "## P5. X초 알람 만들기"
   ]
  },
  {
   "cell_type": "code",
   "execution_count": 81,
   "id": "b3fbe395",
   "metadata": {},
   "outputs": [
    {
     "name": "stdout",
     "output_type": "stream",
     "text": [
      "원하시는 시간을 초단위로 입력해주세요 : 2\n",
      "2 초 알람을 시작합니다.\n",
      "1 초 경과\n",
      "2 초 경과\n",
      "2 초가 경과하였습니다,\n"
     ]
    }
   ],
   "source": [
    "import time\n",
    "import winsound\n",
    "\n",
    "cnt=1\n",
    "sec = int(input('원하시는 시간을 초단위로 입력해주세요 : '))\n",
    "print(sec,'초 알람을 시작합니다.')\n",
    "while cnt<=sec:\n",
    "    time.sleep(1)\n",
    "    print(cnt,'초 경과')\n",
    "    cnt=cnt+1\n",
    "print(sec,'초가 경과하였습니다,')\n",
    "\n",
    "\n",
    "cnt=1\n",
    "while cnt<=5:\n",
    "    winsound.Beep(550,250)\n",
    "    cnt=cnt+1"
   ]
  },
  {
   "cell_type": "markdown",
   "id": "8cc8bf1b",
   "metadata": {},
   "source": [
    "## P6. 중복없는 로또번호 만들기"
   ]
  },
  {
   "cell_type": "code",
   "execution_count": 80,
   "id": "c5ff01e3",
   "metadata": {},
   "outputs": [
    {
     "name": "stdout",
     "output_type": "stream",
     "text": [
      "1 번째 숫자는 30 입니다!\n",
      "2 번째 숫자는 1 입니다!\n",
      "3 번째 숫자는 28 입니다!\n",
      "4 번째 숫자는 22 입니다!\n"
     ]
    }
   ],
   "source": [
    "import random\n",
    "\n",
    "a,b,c=0,0,0 #로또번호 중복 저장용. 초기값 0은 존재하지 않기 때문에 비교에서 없는 번호 취급\n",
    "cnt = 1\n",
    "num=0\n",
    "while cnt<=4 :\n",
    "    num = random.randint(1,30)\n",
    "    if(num!=a and num!=b and num!=c):\n",
    "        print(cnt,\"번째 숫자는\", num,\"입니다!\")\n",
    "        if(a==0):\n",
    "            a=num\n",
    "        elif(b==0):\n",
    "            b=num\n",
    "        elif(c==0):\n",
    "            c=num\n",
    "        cnt=cnt+1\n",
    "\n",
    "    "
   ]
  },
  {
   "cell_type": "code",
   "execution_count": null,
   "id": "c7d07620",
   "metadata": {},
   "outputs": [],
   "source": []
  }
 ],
 "metadata": {
  "kernelspec": {
   "display_name": "Python 3 (ipykernel)",
   "language": "python",
   "name": "python3"
  },
  "language_info": {
   "codemirror_mode": {
    "name": "ipython",
    "version": 3
   },
   "file_extension": ".py",
   "mimetype": "text/x-python",
   "name": "python",
   "nbconvert_exporter": "python",
   "pygments_lexer": "ipython3",
   "version": "3.9.12"
  }
 },
 "nbformat": 4,
 "nbformat_minor": 5
}
