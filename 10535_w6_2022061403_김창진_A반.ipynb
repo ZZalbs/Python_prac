{
 "cells": [
  {
   "cell_type": "markdown",
   "id": "2dd60f77",
   "metadata": {},
   "source": [
    "# P1. 다음을 입력하고 실행해보세요."
   ]
  },
  {
   "cell_type": "code",
   "execution_count": 7,
   "id": "a1484716",
   "metadata": {},
   "outputs": [
    {
     "name": "stdout",
     "output_type": "stream",
     "text": [
      "가위 바위 보!!!\n",
      "3판2선승 3판2선승~\n",
      "삼세판 가자~\n",
      "--------------------------------------------------\n",
      "가위바위보 중에 하나를 내세요!가위\n",
      "당신 이김! 컴퓨터 짐! (you: 가위 , Com : 보 )\n",
      "--------------------------------------------------\n",
      "--------------------------------------------------\n",
      "가위바위보 중에 하나를 내세요!바위\n",
      "당신 짐! 컴퓨터 이김! (you: 바위 , Com : 보 )\n",
      "--------------------------------------------------\n",
      "--------------------------------------------------\n",
      "가위바위보 중에 하나를 내세요!보\n",
      "무승부! (you: 보 , Com : 보 )\n",
      "--------------------------------------------------\n",
      "\n",
      ">>> 무승부 <<<\n",
      "그만하시겠습니까? (y/n)n\n",
      "삼세판 가자~\n",
      "--------------------------------------------------\n",
      "가위바위보 중에 하나를 내세요!가위\n",
      "무승부! (you: 가위 , Com : 가위 )\n",
      "--------------------------------------------------\n",
      "--------------------------------------------------\n",
      "가위바위보 중에 하나를 내세요!바위\n",
      "무승부! (you: 바위 , Com : 바위 )\n",
      "--------------------------------------------------\n",
      "--------------------------------------------------\n",
      "가위바위보 중에 하나를 내세요!보\n",
      "무승부! (you: 보 , Com : 보 )\n",
      "--------------------------------------------------\n",
      "\n",
      ">>> 무승부 <<<\n",
      "그만하시겠습니까? (y/n)n\n",
      "삼세판 가자~\n",
      "--------------------------------------------------\n",
      "가위바위보 중에 하나를 내세요!가위\n",
      "무승부! (you: 가위 , Com : 가위 )\n",
      "--------------------------------------------------\n",
      "--------------------------------------------------\n",
      "가위바위보 중에 하나를 내세요!바위\n",
      "당신 짐! 컴퓨터 이김! (you: 바위 , Com : 보 )\n",
      "--------------------------------------------------\n",
      "--------------------------------------------------\n",
      "가위바위보 중에 하나를 내세요!보\n",
      "당신 짐! 컴퓨터 이김! (you: 보 , Com : 가위 )\n",
      "--------------------------------------------------\n",
      "\n",
      ">>>컴퓨터가 최종 승리!<<<\n",
      "그만하시겠습니까? (y/n)y\n"
     ]
    }
   ],
   "source": [
    "import random\n",
    "print('가위 바위 보!!!')\n",
    "print('3판2선승 3판2선승~')\n",
    "while True:\n",
    "    print('삼세판 가자~')\n",
    "    cnt,cnt_user,cnt_com = 0,0,0\n",
    "    while cnt<3:\n",
    "        print('-'*50)\n",
    "        \n",
    "        #사용자, 컴퓨터값 설정----------------------------\n",
    "        yourHand = input('가위바위보 중에 하나를 내세요!')\n",
    "        comRandom = random.randint(1,3)\n",
    "        if(comRandom==1):\n",
    "            comHand = '가위'\n",
    "        elif(comRandom==2):\n",
    "            comHand = '바위'\n",
    "        else:\n",
    "            comHand = '보'\n",
    "            \n",
    "        #승부판단-----------------------------------------\n",
    "        ##컴퓨터 승리\n",
    "        if (comHand == '가위' and yourHand == '보') or (comHand == '보' and yourHand == '바위') or (comHand == '바위' and yourHand == '가위'):\n",
    "            winner = '컴퓨터'\n",
    "        ## 플레이어 승리\n",
    "        elif (comHand == '보' and yourHand == '가위') or (comHand == '바위' and yourHand == '보') or (comHand == '가위' and yourHand == '바위'):\n",
    "            winner = '당신'\n",
    "        ##비김\n",
    "        else:\n",
    "            winner='비김'\n",
    "            \n",
    "        #승부결과 출력 -----------------------------------\n",
    "        if(winner=='당신'):\n",
    "            print('당신 이김! 컴퓨터 짐! (you:',yourHand,', Com :',comHand,')')\n",
    "            cnt_user = cnt_user+1\n",
    "        elif(winner=='컴퓨터'):\n",
    "            print('당신 짐! 컴퓨터 이김! (you:',yourHand,', Com :',comHand,')')\n",
    "            cnt_com = cnt_com+1\n",
    "        else:\n",
    "            print('무승부! (you:',yourHand,', Com :',comHand,')')\n",
    "        cnt=cnt+1\n",
    "        print('-'*50)\n",
    "        \n",
    "        \n",
    "        #3판다승제 승자결정\n",
    "        \n",
    "    print()\n",
    "    if(cnt_user > cnt_com):\n",
    "        print('>>>당신이 최종 승리!<<<')\n",
    "    elif(cnt_user < cnt_com):\n",
    "        print('>>>컴퓨터가 최종 승리!<<<')\n",
    "    else:\n",
    "        print(\">>> 무승부 <<<\")\n",
    "            \n",
    "        #가위바위보 반복실행 여부 결정\n",
    "    if input('그만하시겠습니까? (y/n)') == 'y':\n",
    "        break"
   ]
  },
  {
   "cell_type": "markdown",
   "id": "eb89663c",
   "metadata": {},
   "source": [
    "# P2. 정수를 입력받아 다음과 같은 계산을 하는 프로그램을 작성하세요."
   ]
  },
  {
   "cell_type": "code",
   "execution_count": 53,
   "id": "f1111f99",
   "metadata": {},
   "outputs": [
    {
     "name": "stdout",
     "output_type": "stream",
     "text": [
      "정수 입력 : 6\n",
      "(1)+(1+2)+(1+2+3)+(1+2+3+4)+(1+2+3+4+5)+(1+2+3+4+5+6)= 56\n"
     ]
    }
   ],
   "source": [
    "num = int(input('정수 입력 : '))\n",
    "i,j=1,1\n",
    "res=0\n",
    "while i<=num:\n",
    "    print('(',end='')\n",
    "    while j<=i:\n",
    "        print(j,end='')\n",
    "        if(j!=i):\n",
    "            print('+',end='')\n",
    "        res = res+j\n",
    "        j=j+1\n",
    "        \n",
    "        \n",
    "    \n",
    "    print(')',end='')\n",
    "    if(i!=num):\n",
    "        print('+',end='')\n",
    "    j=1\n",
    "    i=i+1\n",
    "print('=',res)"
   ]
  },
  {
   "cell_type": "markdown",
   "id": "2ac928a8",
   "metadata": {},
   "source": [
    "# P3. 중첩 while이나 다중 while을 이용하여 다음 문양을 출력하세요."
   ]
  },
  {
   "cell_type": "code",
   "execution_count": 40,
   "id": "85cfb8b9",
   "metadata": {},
   "outputs": [
    {
     "name": "stdout",
     "output_type": "stream",
     "text": [
      "      *\n",
      "     ***\n",
      "    *****\n",
      "   *******\n",
      "  *********\n",
      " ***********\n",
      "*************\n"
     ]
    }
   ],
   "source": [
    "i,j=1,1\n",
    "cnt=1\n",
    "while i<=7:\n",
    "    while j<=7-i:\n",
    "        print(end=' ')\n",
    "        j=j+1\n",
    "    j=1\n",
    "    while j<=i*2-1:\n",
    "        print('*',end='')\n",
    "        j=j+1\n",
    "    i=i+1\n",
    "    j=1\n",
    "    print('')\n",
    "    "
   ]
  },
  {
   "cell_type": "code",
   "execution_count": 48,
   "id": "b22f0eaf",
   "metadata": {},
   "outputs": [
    {
     "name": "stdout",
     "output_type": "stream",
     "text": [
      "*********\n",
      " *******\n",
      "  *****\n",
      "   ***\n",
      "    *\n",
      "   ***\n",
      "  *****\n",
      " *******\n",
      "*********\n"
     ]
    }
   ],
   "source": [
    "i,j=5,1\n",
    "cnt=1\n",
    "\n",
    "while i>1:\n",
    "    while j<=5-i:\n",
    "        print(end=' ')\n",
    "        j=j+1\n",
    "    j=1\n",
    "    while j<=i*2-1:\n",
    "        print('*',end='')\n",
    "        j=j+1\n",
    "    i=i-1\n",
    "    j=1\n",
    "    print('')\n",
    "    \n",
    "i,j=1,1\n",
    "cnt=1\n",
    "\n",
    "while i<=5:\n",
    "    while j<=5-i:\n",
    "        print(end=' ')\n",
    "        j=j+1\n",
    "    j=1\n",
    "    while j<=i*2-1:\n",
    "        print('*',end='')\n",
    "        j=j+1\n",
    "    i=i+1\n",
    "    j=1\n",
    "    print('')\n",
    "    "
   ]
  },
  {
   "cell_type": "code",
   "execution_count": 33,
   "id": "561b5627",
   "metadata": {},
   "outputs": [
    {
     "name": "stdout",
     "output_type": "stream",
     "text": [
      "1 \n",
      "2 3 \n",
      "4 5 6 \n",
      "7 8 9 10 \n",
      "11 12 13 14 15 \n",
      "16 17 18 19 20 21 \n",
      "22 23 24 25 26 27 28 \n"
     ]
    }
   ],
   "source": [
    "i,j=1,1\n",
    "cnt=1\n",
    "while i<=7:\n",
    "    while j<=i:\n",
    "        print(cnt,end=' ')\n",
    "        cnt=cnt+1\n",
    "        j=j+1\n",
    "    i=i+1\n",
    "    j=1\n",
    "    print('')\n",
    "    "
   ]
  },
  {
   "cell_type": "markdown",
   "id": "78fd58a5",
   "metadata": {},
   "source": [
    "# P4. 다음과 같이 별다방음료값을 구하는 프로그램을 작성하시오."
   ]
  },
  {
   "cell_type": "code",
   "execution_count": 52,
   "id": "3cf47365",
   "metadata": {},
   "outputs": [
    {
     "name": "stdout",
     "output_type": "stream",
     "text": [
      "당신은 별다방에 왔습니다.\n",
      "\n",
      "\n",
      "-별다방 메뉴-\n",
      "[1] 아메리카노 :5500원\n",
      "[2] 카페라떼 :6000원\n",
      "[3] 카푸치노 : 6500원\n",
      "[0] 종료\n",
      "\n",
      "음료를 주문하세요.\n",
      "당신의 이름:창진\n",
      "메뉴 선택 :1\n",
      "수량선택 :2\n",
      "메뉴 선택 :2\n",
      "수량선택 :1\n",
      "메뉴 선택 :0\n",
      "창진 님의 총 요금은 17000 원 입니다.\n",
      "다음 손님 있습니까?(y/n) y\n",
      "음료를 주문하세요.\n",
      "당신의 이름:관우\n",
      "메뉴 선택 :1\n",
      "수량선택 :2\n",
      "메뉴 선택 :3\n",
      "수량선택 :1\n",
      "메뉴 선택 :0\n",
      "관우 님의 총 요금은 17500 원 입니다.\n",
      "다음 손님 있습니까?(y/n) n\n"
     ]
    }
   ],
   "source": [
    "print('당신은 별다방에 왔습니다.\\n\\n')\n",
    "print('-별다방 메뉴-')\n",
    "print('[1] 아메리카노 :5500원')\n",
    "print('[2] 카페라떼 :6000원')\n",
    "print('[3] 카푸치노 : 6500원')\n",
    "print('[0] 종료')\n",
    "print()\n",
    "\n",
    "while True:\n",
    "    print('음료를 주문하세요.')\n",
    "    res = 0\n",
    "    name = input('당신의 이름:') \n",
    "    while True:\n",
    "        getMenu = int(input('메뉴 선택 :'))\n",
    "        if(getMenu==0):\n",
    "            break\n",
    "        else:\n",
    "            getNum = int(input('수량선택 :'))\n",
    "            if(getMenu==1):\n",
    "                res = res+getNum*5500\n",
    "            elif(getMenu==2):\n",
    "                res = res+getNum*6000\n",
    "            elif(getMenu==3):\n",
    "                res = res+getNum*6500\n",
    "    print(name,'님의 총 요금은',res,'원 입니다.')\n",
    "        #반복실행 여부 결정\n",
    "    if input('다음 손님 있습니까?(y/n) ') == 'n':\n",
    "        break"
   ]
  },
  {
   "cell_type": "code",
   "execution_count": null,
   "id": "e86083d4",
   "metadata": {},
   "outputs": [],
   "source": []
  }
 ],
 "metadata": {
  "kernelspec": {
   "display_name": "Python 3 (ipykernel)",
   "language": "python",
   "name": "python3"
  },
  "language_info": {
   "codemirror_mode": {
    "name": "ipython",
    "version": 3
   },
   "file_extension": ".py",
   "mimetype": "text/x-python",
   "name": "python",
   "nbconvert_exporter": "python",
   "pygments_lexer": "ipython3",
   "version": "3.9.12"
  }
 },
 "nbformat": 4,
 "nbformat_minor": 5
}
