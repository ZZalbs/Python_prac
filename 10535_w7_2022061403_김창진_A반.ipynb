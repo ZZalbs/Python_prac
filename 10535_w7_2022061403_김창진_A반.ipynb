{
 "cells": [
  {
   "cell_type": "markdown",
   "id": "27b44cad",
   "metadata": {},
   "source": [
    "# P1. 지뢰찾기 게임을 구현하고 실행하세요."
   ]
  },
  {
   "cell_type": "code",
   "execution_count": 1,
   "id": "a318cd9d",
   "metadata": {
    "scrolled": false
   },
   "outputs": [
    {
     "name": "stdout",
     "output_type": "stream",
     "text": [
      "============================================================\n",
      "지뢰찾기게임~ 주어진횟수안에지뢰를찾으세요\n",
      "============================================================\n",
      "0 ~ 29 사이의 지뢰를 찾으세요:  5\n",
      "지뢰는 더 높은칸에 있습니다.\n",
      "남은횟수: 4 \n",
      "\n",
      "6 ~ 29 사이의 지뢰를 찾으세요:  12\n",
      "지뢰는 더 높은칸에 있습니다.\n",
      "남은횟수: 3 \n",
      "\n",
      "13 ~ 29 사이의 지뢰를 찾으세요:  20\n",
      "지뢰는 더 높은칸에 있습니다.\n",
      "남은횟수: 2 \n",
      "\n",
      "21 ~ 29 사이의 지뢰를 찾으세요:  25\n",
      "지뢰는 더 낮은칸에 있습니다.\n",
      "남은횟수: 1 \n",
      "\n",
      "21 ~ 24 사이의 지뢰를 찾으세요:  23\n",
      "지뢰는 더 높은칸에 있습니다.\n",
      "남은횟수: 0 \n",
      "\n",
      "펑~지뢰를 못찾았습니다.\n"
     ]
    }
   ],
   "source": [
    "import random\n",
    "import math\n",
    "\n",
    "print('='*60)\n",
    "print('지뢰찾기게임~ 주어진횟수안에지뢰를찾으세요')\n",
    "print('='*60)\n",
    "\n",
    "start,end=0,29\n",
    "minefield = list(range(start,end+1))\n",
    "minePos = random.randint(0,len(minefield)-1)\n",
    "minefield[minePos] = 'MINE'\n",
    "numTrials= math.ceil(math.log(len(minefield),2))\n",
    "\n",
    "cntTrials=0\n",
    "while cntTrials<numTrials:\n",
    "    print(start,'~',end,'사이의 지뢰를 찾으세요: ',end=' ')\n",
    "    guessPos=int(input())\n",
    "    cntTrials=cntTrials+1\n",
    "    \n",
    "    if guessPos==minePos:\n",
    "        print(cntTrials,'번 안에 지뢰를 찾았습니다.')\n",
    "        minefield[minePos] = 'FLAG'\n",
    "        break\n",
    "    elif guessPos>minePos:\n",
    "        print('지뢰는 더 낮은칸에 있습니다.')\n",
    "        end=guessPos-1\n",
    "    else:\n",
    "        print('지뢰는 더 높은칸에 있습니다.')\n",
    "        start = guessPos+1\n",
    "    print('남은횟수:',numTrials-cntTrials,'\\n')\n",
    "if minefield[minePos]!='FLAG':\n",
    "    print('펑~지뢰를 못찾았습니다.')"
   ]
  },
  {
   "cell_type": "markdown",
   "id": "b05a4763",
   "metadata": {},
   "source": [
    "# P2. 다음 지시에 따라 리스트를 생성하고 명령을 수행하는 과정을 제출하세요."
   ]
  },
  {
   "cell_type": "code",
   "execution_count": 10,
   "id": "9439fca6",
   "metadata": {},
   "outputs": [
    {
     "name": "stdout",
     "output_type": "stream",
     "text": [
      "['된장찌개', '햄버거', '파스타']\n"
     ]
    }
   ],
   "source": [
    "FavSongs = ['200%','벚꽃엔딩','나는 나비','낭만고양이','사랑하긴했었나요스쳐가는인연이었나요짧지않은우리함께했던시간들이자꾸내마음을가둬두네']\n",
    "FavSingers= ['악뮤','장범준','YB','체리필터','잔나비']\n",
    "FavFoods = ['김치찌개','된장찌개','햄버거','파스타','삼겹살']\n",
    "\n",
    "MyFav = [FavSongs,FavSingers,FavFoods]\n",
    "\n",
    "del MyFav[0][2]\n",
    "MyFav[1].append('브레이브걸스')\n",
    "print(MyFav[2][1:4])\n"
   ]
  },
  {
   "cell_type": "markdown",
   "id": "ac91c568",
   "metadata": {},
   "source": [
    "# P3. 다음과 같은 실행결과가 나오도록 소스코드를 작성하시오."
   ]
  },
  {
   "cell_type": "code",
   "execution_count": 29,
   "id": "cd9c89ed",
   "metadata": {},
   "outputs": [
    {
     "name": "stdout",
     "output_type": "stream",
     "text": [
      "오늘의 패션 1번 추천 조합입니다.\n",
      "blue shirt\n",
      "blue skirt\n",
      "black tie\n",
      "\n",
      "오늘의 패션 2번 추천 조합입니다.\n",
      "pink T-shirt\n",
      "black legging\n",
      "blue shoes\n",
      "\n",
      "오늘의 패션 3번 추천 조합입니다.\n",
      "pink T-shirt\n",
      "red skirt\n",
      "red shoes\n",
      "\n"
     ]
    }
   ],
   "source": [
    "import random\n",
    "color = ['black','blue','red','pink']\n",
    "shirt = ['T-shirt','shirt','shirt']\n",
    "pants = ['skirt','legging']\n",
    "accessory = ['tie','shoes']\n",
    "\n",
    "cnt=1\n",
    "while cnt<=3:\n",
    "    print('오늘의 패션 '+str(cnt)+'번 추천 조합입니다.')\n",
    "    print(color[random.randint(0,len(color)-1)],shirt[random.randint(0,len(shirt)-1)])\n",
    "    print(color[random.randint(0,len(color)-1)],pants[random.randint(0,len(pants)-1)])\n",
    "    print(color[random.randint(0,len(color)-1)],accessory[random.randint(0,len(accessory)-1)])\n",
    "    print()\n",
    "    cnt=cnt+1"
   ]
  },
  {
   "cell_type": "markdown",
   "id": "61ded9ea",
   "metadata": {},
   "source": [
    "# P4. 리스트에서 최대값 최소값 찾기"
   ]
  },
  {
   "cell_type": "code",
   "execution_count": 55,
   "id": "82ce365b",
   "metadata": {},
   "outputs": [
    {
     "name": "stdout",
     "output_type": "stream",
     "text": [
      "가장 큰 수는 92 이고, 가장 작은 수는 5 입니다.\n",
      "[91, 71, 22, 87, 41, 60, 80, 59, 36, 61, 92, 86, 8, 66, 26, 85, 5, 68, 73, 14]\n"
     ]
    }
   ],
   "source": [
    "import random\n",
    "\n",
    "randomSet = list(range(1,101))\n",
    "random.shuffle(randomSet)\n",
    "numList = randomSet[:20] # 0~19 : 20개\n",
    "\n",
    "cnt=0\n",
    "maxNum = 0\n",
    "minNum=100\n",
    "while cnt<len(numList):\n",
    "    if(numList[cnt]>maxNum):\n",
    "        maxNum = numList[cnt]\n",
    "    if(numList[cnt]<minNum):\n",
    "        minNum = numList[cnt]\n",
    "    cnt=cnt+1\n",
    "print('가장 큰 수는',maxNum,'이고, 가장 작은 수는',minNum,'입니다.')\n",
    "print(numList)"
   ]
  },
  {
   "cell_type": "markdown",
   "id": "4f54d01c",
   "metadata": {},
   "source": [
    "# P5. 중복없는 로또번호 생성기"
   ]
  },
  {
   "cell_type": "markdown",
   "id": "b5f9c827",
   "metadata": {},
   "source": [
    "   #### P5-1. 다음 안내에 따라 중복없는 로또번호를 생성해보자."
   ]
  },
  {
   "cell_type": "code",
   "execution_count": 68,
   "id": "c16b5bfe",
   "metadata": {},
   "outputs": [
    {
     "name": "stdout",
     "output_type": "stream",
     "text": [
      "[25, 44, 16, 31, 15, 10]\n"
     ]
    }
   ],
   "source": [
    "import random\n",
    "randomSet = list(range(1,46))\n",
    "random.shuffle(randomSet)\n",
    "numList = randomSet[:6]\n",
    "print(numList)"
   ]
  },
  {
   "cell_type": "markdown",
   "id": "3724b4be",
   "metadata": {},
   "source": [
    "   #### P5-2. 다음 안내에 따라 중복없는 로또번호를 생성해보자."
   ]
  },
  {
   "cell_type": "code",
   "execution_count": 67,
   "id": "f92b31e4",
   "metadata": {},
   "outputs": [
    {
     "name": "stdout",
     "output_type": "stream",
     "text": [
      "[27, 26, 40, 25, 24, 22]\n"
     ]
    }
   ],
   "source": [
    "import random\n",
    "randomSet = list(range(1,46))\n",
    "cnt=0\n",
    "numList = []\n",
    "max = len(randomSet)\n",
    "while cnt<6:\n",
    "    chooseNum = random.randint(0,max-cnt-1)\n",
    "    numList.append(randomSet[chooseNum])\n",
    "    del randomSet[chooseNum]\n",
    "    cnt=cnt+1\n",
    "print(numList)\n",
    "\n",
    "\n",
    "## random.randint는 끝범위도 포함합니다!!! 주의!!!!!"
   ]
  },
  {
   "cell_type": "code",
   "execution_count": null,
   "id": "213a6fde",
   "metadata": {},
   "outputs": [],
   "source": []
  }
 ],
 "metadata": {
  "kernelspec": {
   "display_name": "Python 3 (ipykernel)",
   "language": "python",
   "name": "python3"
  },
  "language_info": {
   "codemirror_mode": {
    "name": "ipython",
    "version": 3
   },
   "file_extension": ".py",
   "mimetype": "text/x-python",
   "name": "python",
   "nbconvert_exporter": "python",
   "pygments_lexer": "ipython3",
   "version": "3.9.12"
  }
 },
 "nbformat": 4,
 "nbformat_minor": 5
}
