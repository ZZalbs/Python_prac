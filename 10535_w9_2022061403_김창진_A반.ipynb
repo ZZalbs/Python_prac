{
 "cells": [
  {
   "cell_type": "markdown",
   "id": "77d55124",
   "metadata": {},
   "source": [
    "# P1. 실습문제\n",
    "## P1-1. range()를 리스트로 바꾸어 동일한 결과를 출력하도록 작성하세요.\n",
    "## P1-2. range()를 문자열로 바꾸어 동일한 결과를 출력하도록 작성하세요.\n"
   ]
  },
  {
   "cell_type": "code",
   "execution_count": 1,
   "id": "66844b63",
   "metadata": {},
   "outputs": [
    {
     "name": "stdout",
     "output_type": "stream",
     "text": [
      "단을 입력하세요 : 2\n",
      "2 x 1 = 2\n",
      "2 x 2 = 4\n",
      "2 x 3 = 6\n",
      "2 x 4 = 8\n",
      "2 x 5 = 10\n",
      "2 x 6 = 12\n",
      "2 x 7 = 14\n",
      "2 x 8 = 16\n",
      "2 x 9 = 18\n"
     ]
    }
   ],
   "source": [
    "gugu = int(input('단을 입력하세요 : '))\n",
    "for num in range(1,10):\n",
    "    print(gugu,'x',num,'=',gugu*num)\n"
   ]
  },
  {
   "cell_type": "code",
   "execution_count": 3,
   "id": "eb3881ac",
   "metadata": {},
   "outputs": [
    {
     "name": "stdout",
     "output_type": "stream",
     "text": [
      "단을 입력하세요 : 2\n",
      "2 x 1 = 2\n",
      "2 x 2 = 4\n",
      "2 x 3 = 6\n",
      "2 x 4 = 8\n",
      "2 x 5 = 10\n",
      "2 x 6 = 12\n",
      "2 x 7 = 14\n",
      "2 x 8 = 16\n",
      "2 x 9 = 18\n"
     ]
    }
   ],
   "source": [
    "#p1-1\n",
    "a = [1,2,3,4,5,6,7,8,9]\n",
    "gugu = int(input('단을 입력하세요 : '))\n",
    "for num in a:\n",
    "    print(gugu,'x',num,'=',gugu*num)\n"
   ]
  },
  {
   "cell_type": "code",
   "execution_count": 5,
   "id": "70c2f3b3",
   "metadata": {},
   "outputs": [
    {
     "name": "stdout",
     "output_type": "stream",
     "text": [
      "단을 입력하세요 : 2\n",
      "2 x 1 = 2\n",
      "2 x 2 = 4\n",
      "2 x 3 = 6\n",
      "2 x 4 = 8\n",
      "2 x 5 = 10\n",
      "2 x 6 = 12\n",
      "2 x 7 = 14\n",
      "2 x 8 = 16\n",
      "2 x 9 = 18\n"
     ]
    }
   ],
   "source": [
    "#p1-2\n",
    "b = '123456789'\n",
    "gugu = int(input('단을 입력하세요 : '))\n",
    "for num in b:\n",
    "    print(gugu,'x',num,'=',gugu*int(num))"
   ]
  },
  {
   "cell_type": "markdown",
   "id": "dd2d4db5",
   "metadata": {},
   "source": [
    "# P2. 다음 소스코드의 실행결과를 예측해보고 실제 실행결과와 비교해보세요."
   ]
  },
  {
   "cell_type": "code",
   "execution_count": 6,
   "id": "92234b92",
   "metadata": {},
   "outputs": [
    {
     "name": "stdout",
     "output_type": "stream",
     "text": [
      "1 번째 문자는 H 입니다.\n",
      "2 번째 문자는 a 입니다.\n",
      "3 번째 문자는 n 입니다.\n",
      "4 번째 문자는 y 입니다.\n",
      "5 번째 문자는 a 입니다.\n",
      "6 번째 문자는 n 입니다.\n",
      "7 번째 문자는 g 입니다.\n",
      "총 7 개의 문자를 출력하였습니다.\n"
     ]
    }
   ],
   "source": [
    "cnt=0\n",
    "for txt in 'Hanyang' : \n",
    "    cnt=cnt+1\n",
    "    print(cnt,'번째 문자는',txt,'입니다.')\n",
    "print('총',cnt,'개의 문자를 출력하였습니다.')\n",
    "\n",
    "# 문자열을 한글자씩 출력할 것으로 예상된다. cnt 는 문자열의 길이와 같을것이다."
   ]
  },
  {
   "cell_type": "markdown",
   "id": "830a79d9",
   "metadata": {},
   "source": [
    "# P3. 다음 프로그램은 주어진 문자열 txt에서 'a'가 몇개인지를 출력한다. 이를 응용하여 python.txt 파일의 문자열을 이용하여 다음을 구하라.\n",
    "#### 총 알파벳 개수, a-z 알파벳 개수, a-z 알파벳 비율. 기호와 빈공간 무시하고 소문자만 검색"
   ]
  },
  {
   "cell_type": "code",
   "execution_count": 7,
   "id": "5ad64448",
   "metadata": {},
   "outputs": [
    {
     "name": "stdout",
     "output_type": "stream",
     "text": [
      "a를 2 개 찾았습니다.\n"
     ]
    }
   ],
   "source": [
    "txt = 'hanyang university'\n",
    "cnt=0\n",
    "for char in txt:\n",
    "    if char =='a':\n",
    "        cnt=cnt+1\n",
    "print('a를',cnt,'개 찾았습니다.')\n",
    "    "
   ]
  },
  {
   "cell_type": "code",
   "execution_count": 14,
   "id": "b07fe522",
   "metadata": {
    "scrolled": true
   },
   "outputs": [
    {
     "name": "stdout",
     "output_type": "stream",
     "text": [
      "총 개수는  2522 개 입니다.\n",
      "\n",
      "a 의 개수는 193 개 이고, 비율은 7.652656621728787 % 입니다.\n",
      "b 의 개수는 30 개 이고, 비율은 1.189532117367169 % 입니다.\n",
      "c 의 개수는 78 개 이고, 비율은 3.0927835051546393 % 입니다.\n",
      "d 의 개수는 83 개 이고, 비율은 3.2910388580491676 % 입니다.\n",
      "e 의 개수는 283 개 이고, 비율은 11.221252973830294 % 입니다.\n",
      "f 의 개수는 52 개 이고, 비율은 2.0618556701030926 % 입니다.\n",
      "g 의 개수는 68 개 이고, 비율은 2.696272799365583 % 입니다.\n",
      "h 의 개수는 100 개 이고, 비율은 3.9651070578905627 % 입니다.\n",
      "i 의 개수는 170 개 이고, 비율은 6.740681998413957 % 입니다.\n",
      "j 의 개수는 3 개 이고, 비율은 0.11895321173671689 % 입니다.\n",
      "k 의 개수는 17 개 이고, 비율은 0.6740681998413958 % 입니다.\n",
      "l 의 개수는 108 개 이고, 비율은 4.282315622521808 % 입니다.\n",
      "m 의 개수는 61 개 이고, 비율은 2.4187153053132437 % 입니다.\n",
      "n 의 개수는 201 개 이고, 비율은 7.969865186360031 % 입니다.\n",
      "o 의 개수는 232 개 이고, 비율은 9.199048374306107 % 입니다.\n",
      "p 의 개수는 86 개 이고, 비율은 3.409992069785884 % 입니다.\n",
      "q 의 개수는 2 개 이고, 비율은 0.07930214115781126 % 입니다.\n",
      "r 의 개수는 178 개 이고, 비율은 7.057890563045202 % 입니다.\n",
      "s 의 개수는 146 개 이고, 비율은 5.789056304520222 % 입니다.\n",
      "t 의 개수는 230 개 이고, 비율은 9.119746233148295 % 입니다.\n",
      "u 의 개수는 82 개 이고, 비율은 3.251387787470262 % 입니다.\n",
      "v 의 개수는 26 개 이고, 비율은 1.0309278350515463 % 입니다.\n",
      "w 의 개수는 33 개 이고, 비율은 1.3084853291038858 % 입니다.\n",
      "x 의 개수는 1 개 이고, 비율은 0.03965107057890563 % 입니다.\n",
      "y 의 개수는 57 개 이고, 비율은 2.260111022997621 % 입니다.\n",
      "z 의 개수는 2 개 이고, 비율은 0.07930214115781126 % 입니다.\n"
     ]
    }
   ],
   "source": [
    "txt = 'As the backbone to many Meta Services ranging from Instagram to its AI and data infrastructure, Python is very important to Meta. PyTorch is built on Python, accelerating the path from ML research and prototyping to production within Meta and across the open source ML ecosystem. Cinder is Metas performance-oriented version of Python that allows Instagram to run at global scale. Pyre is a performant type-checker used by thousands of Python developers in Meta. To support the Python ecosystem, we are excited to announce that Meta has made a $300,000 Visionary level sponsorship of the Python Software Foundation (PSF) that will provide critical support to the PSF and fund a second year of the successful Developer-in-Residence program. Meta is also committed to long-term investment in Python’s performance, by upstreaming improvements from Cinder, and making it more broadly available. The Developer-in-Residence program was launched in 2021, dedicating a full-time role to CPython. Python is a powerful and popular open-source language, used by millions of people around the world, in applications ranging from basic programming tutorials to literal rocket science. This is made possible by the nature of Open Source. The Developer-in-Residence program was established to provide full-time support to volunteers working on Python, tackling problems that are best solved by a dedicated role. Łukasz Langa is the inaugural Developer-in-Residence. A seasoned Python core developer and release manager for Python 3.8 and 3.9, in the first year of the program he is using his unique position to make progress on key projects that are impractical to complete with volunteer time, like chipping away at the backlog of pull requests and completing the migration of bugs.python.org to GitHub Issues, as well as mentoring new core developers. Meta’s funding of a second year of the Developer-in-Residence program allows crucial continuity and stability. Knowing the role is funded for a second year with direction from the Steering Council and support from the PSF, can take a farther looking view to plan ahead, invest in setting up the foundation for long-term projects, and build on the lessons of the inaugural year. The PSF is thrilled that thanks to Meta’s generosity, we will be able to continue this successful program, which will grow and deepen its impact on the future of CPython and the Python community in the second year. Meta’s donation will also provide substantial support to the PSF and our core programs, including maintaining and supporting PyPI.org, our grants program reaching Pythonista projects around the world, PyCon US bringing together the Python community, stewardship of Python intellectual property, and foundational infrastructure for hosting the language and new Python releases. We are proud to recognize Meta as a Visionary Sponsor of our work, helping to make the full range of our programs and the Python ecosystem sustainable in the long term. The PSF and everything we do would not be possible without the participation of sponsors like Meta. We are deeply grateful for their investment, which is part of building the foundation that will enable the PSF and Python to thrive for years to come.'\n",
    "cnt=0\n",
    "alphabet  = 'abcdefghijklmnopqrstuvwxyz'\n",
    "checklist = [0,0,0,0,0,0,0,0,0,0,0,0,0,0,0,0,0,0,0,0,0,0,0,0,0,0,0]\n",
    "for char in txt:\n",
    "    \n",
    "    for letter in alphabet:\n",
    "        if (letter == char):\n",
    "            cnt=cnt+1\n",
    "            checklist[alphabet.index(letter)] = checklist[alphabet.index(letter)]+1\n",
    "\n",
    "print('총 개수는 ',cnt,'개 입니다.')\n",
    "print()\n",
    "for num in range(0,len(checklist)-1):\n",
    "    print(alphabet[num],'의 개수는',checklist[num],'개 이고, 비율은',checklist[num]/cnt*100,'% 입니다.')"
   ]
  },
  {
   "cell_type": "markdown",
   "id": "07c9339a",
   "metadata": {},
   "source": [
    "# P4. 다음은 아이디를 만드는 규칙이다, 입력받은 아이디가 규칙에 맞는지 검사하는 프로그램을 작성하시오."
   ]
  },
  {
   "cell_type": "code",
   "execution_count": 34,
   "id": "27bbb58f",
   "metadata": {},
   "outputs": [
    {
     "name": "stdout",
     "output_type": "stream",
     "text": [
      "생성할 아이디를 입력하세요:qwerasdfz0\n",
      "아이디가 생성되었습니다.\n"
     ]
    }
   ],
   "source": [
    "id = input('생성할 아이디를 입력하세요:')\n",
    "check  = '0123456789abcdefghijklmnopqrstuvwxyz'\n",
    "cnt=0\n",
    "numcnt = 0\n",
    "result = True\n",
    "\n",
    "    \n",
    "\n",
    "#1번, 2번 조건\n",
    "for a in id:\n",
    "    for b in check:\n",
    "        if(a==b):\n",
    "            cnt=cnt+1\n",
    "            if(check.index(b)<10): #2번조건\n",
    "                numcnt=numcnt+1\n",
    "if (cnt!=len(id)) or (numcnt==0):\n",
    "    result=False        \n",
    "cnt=0\n",
    "\n",
    "\n",
    "#3번조건\n",
    "if(len(id)>16) or (len(id)<10):\n",
    "    result=False\n",
    "\n",
    "\n",
    "#4번조건\n",
    "for i in range(10,len(check)):\n",
    "    if(id[0]==check[i]):\n",
    "        cnt=cnt+1\n",
    "if(cnt==0):\n",
    "    result = False\n",
    "    \n",
    "    \n",
    "if(result==True):\n",
    "    print('아이디가 생성되었습니다.')\n",
    "else:\n",
    "    print('생성규칙에 맞지 않습니다.')\n",
    "\n",
    "    \n"
   ]
  },
  {
   "cell_type": "code",
   "execution_count": 40,
   "id": "a239ee15",
   "metadata": {},
   "outputs": [
    {
     "name": "stdout",
     "output_type": "stream",
     "text": [
      "생성할 아이디를 입력하세요:programerror\n",
      "생성규칙에 맞지 않습니다.\n"
     ]
    }
   ],
   "source": [
    "##다른방법\n",
    "id = input('생성할 아이디를 입력하세요:')\n",
    "number = '0123456789'\n",
    "alpha  = 'abcdefghijklmnopqrstuvwxyz'\n",
    "numal = number+alpha\n",
    "\n",
    "result = True\n",
    "\n",
    "\n",
    "#1번 조건\n",
    "for a in id:\n",
    "    if a not in numal:\n",
    "        result = False\n",
    "\n",
    "#2번조건\n",
    "cnt=0\n",
    "for i in number:\n",
    "    if i in id:\n",
    "        cnt=cnt+1\n",
    "if(cnt==0):\n",
    "    result=False\n",
    "        \n",
    "#3번조건\n",
    "if(len(id)>16) or (len(id)<10):\n",
    "    result=False\n",
    "\n",
    "\n",
    "#4번조건\n",
    "if(id[0] in number):\n",
    "    result=False\n",
    "    \n",
    "    \n",
    "if(result==True):\n",
    "    print('아이디가 생성되었습니다.')\n",
    "else:\n",
    "    print('생성규칙에 맞지 않습니다.')\n",
    "\n",
    "    \n"
   ]
  },
  {
   "cell_type": "markdown",
   "id": "9527825a",
   "metadata": {},
   "source": [
    "# P5. 369 게임하기"
   ]
  },
  {
   "cell_type": "code",
   "execution_count": 33,
   "id": "7adf9e44",
   "metadata": {},
   "outputs": [
    {
     "name": "stdout",
     "output_type": "stream",
     "text": [
      "\n",
      "재미나는 3!6!9! 게임!\n",
      "\n",
      "1~100까지 숫자를 차례대로 출력하되 숫자에 3,6,9가 있으면 그 개수만큼 '짝' 을 출력하고, 그렇지 않다면 숫자를 출력한다.\n",
      "\n",
      "1 ----> 1\n",
      "2 ----> 2\n",
      "3 ----> 짝\n",
      "4 ----> 4\n",
      "5 ----> 5\n",
      "6 ----> 짝\n",
      "7 ----> 7\n",
      "8 ----> 8\n",
      "9 ----> 짝\n",
      "10 ----> 10\n",
      "11 ----> 11\n",
      "12 ----> 12\n",
      "13 ----> 짝\n",
      "14 ----> 14\n",
      "15 ----> 15\n",
      "16 ----> 짝\n",
      "17 ----> 17\n",
      "18 ----> 18\n",
      "19 ----> 짝\n",
      "20 ----> 20\n",
      "21 ----> 21\n",
      "22 ----> 22\n",
      "23 ----> 짝\n",
      "24 ----> 24\n",
      "25 ----> 25\n",
      "26 ----> 짝\n",
      "27 ----> 27\n",
      "28 ----> 28\n",
      "29 ----> 짝\n",
      "30 ----> 짝\n",
      "31 ----> 짝\n",
      "32 ----> 짝\n",
      "33 ----> 짝짝\n",
      "34 ----> 짝\n",
      "35 ----> 짝\n",
      "36 ----> 짝짝\n",
      "37 ----> 짝\n",
      "38 ----> 짝\n",
      "39 ----> 짝짝\n",
      "40 ----> 40\n",
      "41 ----> 41\n",
      "42 ----> 42\n",
      "43 ----> 짝\n",
      "44 ----> 44\n",
      "45 ----> 45\n",
      "46 ----> 짝\n",
      "47 ----> 47\n",
      "48 ----> 48\n",
      "49 ----> 짝\n",
      "50 ----> 50\n",
      "51 ----> 51\n",
      "52 ----> 52\n",
      "53 ----> 짝\n",
      "54 ----> 54\n",
      "55 ----> 55\n",
      "56 ----> 짝\n",
      "57 ----> 57\n",
      "58 ----> 58\n",
      "59 ----> 짝\n",
      "60 ----> 짝\n",
      "61 ----> 짝\n",
      "62 ----> 짝\n",
      "63 ----> 짝짝\n",
      "64 ----> 짝\n",
      "65 ----> 짝\n",
      "66 ----> 짝짝\n",
      "67 ----> 짝\n",
      "68 ----> 짝\n",
      "69 ----> 짝짝\n",
      "70 ----> 70\n",
      "71 ----> 71\n",
      "72 ----> 72\n",
      "73 ----> 짝\n",
      "74 ----> 74\n",
      "75 ----> 75\n",
      "76 ----> 짝\n",
      "77 ----> 77\n",
      "78 ----> 78\n",
      "79 ----> 짝\n",
      "80 ----> 80\n",
      "81 ----> 81\n",
      "82 ----> 82\n",
      "83 ----> 짝\n",
      "84 ----> 84\n",
      "85 ----> 85\n",
      "86 ----> 짝\n",
      "87 ----> 87\n",
      "88 ----> 88\n",
      "89 ----> 짝\n",
      "90 ----> 짝\n",
      "91 ----> 짝\n",
      "92 ----> 짝\n",
      "93 ----> 짝짝\n",
      "94 ----> 짝\n",
      "95 ----> 짝\n",
      "96 ----> 짝짝\n",
      "97 ----> 짝\n",
      "98 ----> 짝\n",
      "99 ----> 짝짝\n",
      "100 ----> 100\n"
     ]
    }
   ],
   "source": [
    "print('''\n",
    "재미나는 3!6!9! 게임!\n",
    "\n",
    "1~100까지 숫자를 차례대로 출력하되 숫자에 3,6,9가 있으면 그 개수만큼 '짝' 을 출력하고, 그렇지 않다면 숫자를 출력한다.\n",
    "''')\n",
    "cnt=0\n",
    "for i in range(1,101):\n",
    "    str_i = str(i)\n",
    "    for char in str_i:\n",
    "        if(int(char)==3) or (int(char)==6) or (int(char)==9):\n",
    "            cnt=cnt+1\n",
    "    print(i,'---->',end=' ')\n",
    "    if(cnt==0):\n",
    "        print(i)\n",
    "    else:\n",
    "        print('짝'*cnt)\n",
    "    cnt=0"
   ]
  },
  {
   "cell_type": "code",
   "execution_count": null,
   "id": "57eeab22",
   "metadata": {},
   "outputs": [],
   "source": []
  }
 ],
 "metadata": {
  "kernelspec": {
   "display_name": "Python 3 (ipykernel)",
   "language": "python",
   "name": "python3"
  },
  "language_info": {
   "codemirror_mode": {
    "name": "ipython",
    "version": 3
   },
   "file_extension": ".py",
   "mimetype": "text/x-python",
   "name": "python",
   "nbconvert_exporter": "python",
   "pygments_lexer": "ipython3",
   "version": "3.9.12"
  }
 },
 "nbformat": 4,
 "nbformat_minor": 5
}
